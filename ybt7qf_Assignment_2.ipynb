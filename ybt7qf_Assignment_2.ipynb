{
 "cells": [
  {
   "cell_type": "markdown",
   "metadata": {
    "id": "aeUxza2N8Xnt"
   },
   "source": [
    "## Part I: Tensorflow"
   ]
  },
  {
   "cell_type": "code",
   "execution_count": 1,
   "metadata": {
    "id": "Fvnyhv5GTSrp"
   },
   "outputs": [
    {
     "name": "stderr",
     "output_type": "stream",
     "text": [
      "2023-10-11 15:22:59.142906: I tensorflow/core/util/port.cc:111] oneDNN custom operations are on. You may see slightly different numerical results due to floating-point round-off errors from different computation orders. To turn them off, set the environment variable `TF_ENABLE_ONEDNN_OPTS=0`.\n",
      "2023-10-11 15:22:59.207158: I tensorflow/tsl/cuda/cudart_stub.cc:28] Could not find cuda drivers on your machine, GPU will not be used.\n",
      "2023-10-11 15:22:59.511412: E tensorflow/compiler/xla/stream_executor/cuda/cuda_dnn.cc:9342] Unable to register cuDNN factory: Attempting to register factory for plugin cuDNN when one has already been registered\n",
      "2023-10-11 15:22:59.511450: E tensorflow/compiler/xla/stream_executor/cuda/cuda_fft.cc:609] Unable to register cuFFT factory: Attempting to register factory for plugin cuFFT when one has already been registered\n",
      "2023-10-11 15:22:59.513095: E tensorflow/compiler/xla/stream_executor/cuda/cuda_blas.cc:1518] Unable to register cuBLAS factory: Attempting to register factory for plugin cuBLAS when one has already been registered\n",
      "2023-10-11 15:22:59.654936: I tensorflow/tsl/cuda/cudart_stub.cc:28] Could not find cuda drivers on your machine, GPU will not be used.\n",
      "2023-10-11 15:22:59.657350: I tensorflow/core/platform/cpu_feature_guard.cc:182] This TensorFlow binary is optimized to use available CPU instructions in performance-critical operations.\n",
      "To enable the following instructions: AVX2 AVX512F AVX512_VNNI FMA, in other operations, rebuild TensorFlow with the appropriate compiler flags.\n",
      "2023-10-11 15:23:01.697744: W tensorflow/compiler/tf2tensorrt/utils/py_utils.cc:38] TF-TRT Warning: Could not find TensorRT\n"
     ]
    }
   ],
   "source": [
    "import os\n",
    "import tensorflow as tf\n",
    "import numpy as np\n",
    "import math\n",
    "import timeit\n",
    "import matplotlib.pyplot as plt\n",
    "\n",
    "%matplotlib inline"
   ]
  },
  {
   "cell_type": "code",
   "execution_count": 2,
   "metadata": {
    "id": "1mC8tpK9TlwJ"
   },
   "outputs": [
    {
     "name": "stdout",
     "output_type": "stream",
     "text": [
      "Train data shape:  (49000, 32, 32, 3)\n",
      "Train labels shape:  (49000,) int32\n",
      "Validation data shape:  (1000, 32, 32, 3)\n",
      "Validation labels shape:  (1000,)\n",
      "Test data shape:  (10000, 32, 32, 3)\n",
      "Test labels shape:  (10000,)\n"
     ]
    }
   ],
   "source": [
    "def load_cifar10(num_training=49000, num_validation=1000, num_test=10000):\n",
    "    \"\"\"\n",
    "    Fetch the CIFAR-10 dataset from the web and perform preprocessing to prepare\n",
    "    it for the two-layer neural net classifier.\n",
    "    \"\"\"\n",
    "    # Load the raw CIFAR-10 dataset and use appropriate data types and shapes\n",
    "    cifar10 = tf.keras.datasets.cifar10.load_data()\n",
    "    (X_train, y_train), (X_test, y_test) = cifar10\n",
    "    X_train = np.asarray(X_train, dtype=np.float32)\n",
    "    y_train = np.asarray(y_train, dtype=np.int32).flatten()\n",
    "    X_test = np.asarray(X_test, dtype=np.float32)\n",
    "    y_test = np.asarray(y_test, dtype=np.int32).flatten()\n",
    "\n",
    "    # Subsample the data\n",
    "    mask = range(num_training, num_training + num_validation)\n",
    "    X_val = X_train[mask]\n",
    "    y_val = y_train[mask]\n",
    "    mask = range(num_training)\n",
    "    X_train = X_train[mask]\n",
    "    y_train = y_train[mask]\n",
    "    mask = range(num_test)\n",
    "    X_test = X_test[mask]\n",
    "    y_test = y_test[mask]\n",
    "\n",
    "    # Normalize the data: subtract the mean pixel and divide by std\n",
    "    mean_pixel = X_train.mean(axis=(0, 1, 2), keepdims=True)\n",
    "    std_pixel = X_train.std(axis=(0, 1, 2), keepdims=True)\n",
    "    X_train = (X_train - mean_pixel) / std_pixel\n",
    "    X_val = (X_val - mean_pixel) / std_pixel\n",
    "    X_test = (X_test - mean_pixel) / std_pixel\n",
    "\n",
    "    return X_train, y_train, X_val, y_val, X_test, y_test\n",
    "\n",
    "# If there are errors with SSL downloading involving self-signed certificates,\n",
    "# it may be that your Python version was recently installed on the current machine.\n",
    "# See: https://github.com/tensorflow/tensorflow/issues/10779\n",
    "# To fix, run the command: /Applications/Python\\ 3.7/Install\\ Certificates.command\n",
    "#   ...replacing paths as necessary.\n",
    "\n",
    "# Invoke the above function to get our data.\n",
    "NHW = (0, 1, 2)\n",
    "X_train, y_train, X_val, y_val, X_test, y_test = load_cifar10()\n",
    "print('Train data shape: ', X_train.shape)\n",
    "print('Train labels shape: ', y_train.shape, y_train.dtype)\n",
    "print('Validation data shape: ', X_val.shape)\n",
    "print('Validation labels shape: ', y_val.shape)\n",
    "print('Test data shape: ', X_test.shape)\n",
    "print('Test labels shape: ', y_test.shape)"
   ]
  },
  {
   "cell_type": "code",
   "execution_count": 3,
   "metadata": {
    "id": "t-lUuwKN8nmH"
   },
   "outputs": [],
   "source": [
    "class Dataset(object):\n",
    "    def __init__(self, X, y, batch_size, shuffle=False):\n",
    "        \"\"\"\n",
    "        Construct a Dataset object to iterate over data X and labels y\n",
    "\n",
    "        Inputs:\n",
    "        - X: Numpy array of data, of any shape\n",
    "        - y: Numpy array of labels, of any shape but with y.shape[0] == X.shape[0]\n",
    "        - batch_size: Integer giving number of elements per minibatch\n",
    "        - shuffle: (optional) Boolean, whether to shuffle the data on each epoch\n",
    "        \"\"\"\n",
    "        assert X.shape[0] == y.shape[0], 'Got different numbers of data and labels'\n",
    "        self.X, self.y = X, y\n",
    "        self.batch_size, self.shuffle = batch_size, shuffle\n",
    "\n",
    "    def __iter__(self):\n",
    "        N, B = self.X.shape[0], self.batch_size\n",
    "        idxs = np.arange(N)\n",
    "        if self.shuffle:\n",
    "            np.random.shuffle(idxs)\n",
    "        return iter((self.X[i:i+B], self.y[i:i+B]) for i in range(0, N, B))\n",
    "\n",
    "\n",
    "train_dset = Dataset(X_train, y_train, batch_size=64, shuffle=True)\n",
    "val_dset = Dataset(X_val, y_val, batch_size=64, shuffle=False)\n",
    "test_dset = Dataset(X_test, y_test, batch_size=64)"
   ]
  },
  {
   "cell_type": "code",
   "execution_count": 4,
   "metadata": {
    "id": "DV7ItgqZ8nyW"
   },
   "outputs": [
    {
     "name": "stdout",
     "output_type": "stream",
     "text": [
      "0 (64, 32, 32, 3) (64,)\n",
      "1 (64, 32, 32, 3) (64,)\n",
      "2 (64, 32, 32, 3) (64,)\n",
      "3 (64, 32, 32, 3) (64,)\n",
      "4 (64, 32, 32, 3) (64,)\n",
      "5 (64, 32, 32, 3) (64,)\n",
      "6 (64, 32, 32, 3) (64,)\n"
     ]
    }
   ],
   "source": [
    "# We can iterate through a dataset like this:\n",
    "for t, (x, y) in enumerate(train_dset):\n",
    "    print(t, x.shape, y.shape)\n",
    "    if t > 5: break"
   ]
  },
  {
   "cell_type": "code",
   "execution_count": 5,
   "metadata": {
    "id": "zRL6OeSn8n78"
   },
   "outputs": [
    {
     "name": "stdout",
     "output_type": "stream",
     "text": [
      "Using device:  /cpu:0\n"
     ]
    }
   ],
   "source": [
    "# Set up some global variables\n",
    "USE_GPU = False\n",
    "\n",
    "if USE_GPU:\n",
    "    device = '/device:GPU:0'\n",
    "else:\n",
    "    device = '/cpu:0'\n",
    "\n",
    "# Constant to control how often we print when training models\n",
    "print_every = 100\n",
    "\n",
    "print('Using device: ', device)"
   ]
  },
  {
   "cell_type": "code",
   "execution_count": 6,
   "metadata": {
    "id": "uPMJoHoZ9H7L"
   },
   "outputs": [
    {
     "name": "stdout",
     "output_type": "stream",
     "text": [
      "x_np:\n",
      " [[[ 0  1  2  3]\n",
      "  [ 4  5  6  7]\n",
      "  [ 8  9 10 11]]\n",
      "\n",
      " [[12 13 14 15]\n",
      "  [16 17 18 19]\n",
      "  [20 21 22 23]]] \n",
      "\n",
      "x_flat_np:\n",
      " tf.Tensor(\n",
      "[[ 0  1  2  3  4  5  6  7  8  9 10 11]\n",
      " [12 13 14 15 16 17 18 19 20 21 22 23]], shape=(2, 12), dtype=int64) \n",
      "\n"
     ]
    }
   ],
   "source": [
    "## Helper Functions\n",
    "def flatten(x):\n",
    "    \"\"\"\n",
    "    Input:\n",
    "    - TensorFlow Tensor of shape (N, D1, ..., DM)\n",
    "\n",
    "    Output:\n",
    "    - TensorFlow Tensor of shape (N, D1 * ... * DM)\n",
    "    \"\"\"\n",
    "    N = tf.shape(x)[0]\n",
    "    return tf.reshape(x, (N, -1))\n",
    "\n",
    "def test_flatten():\n",
    "    # Construct concrete values of the input data x using numpy\n",
    "    x_np = np.arange(24).reshape((2, 3, 4))\n",
    "    print('x_np:\\n', x_np, '\\n')\n",
    "    # Compute a concrete output value.\n",
    "    x_flat_np = flatten(x_np)\n",
    "    print('x_flat_np:\\n', x_flat_np, '\\n')\n",
    "\n",
    "test_flatten()"
   ]
  },
  {
   "cell_type": "markdown",
   "metadata": {
    "id": "ba4VIHRD_0GT"
   },
   "source": [
    "### Define a TwoLayer Network\n",
    "\n",
    "We will now implement our first neural network with TensorFlow: a fully-connected ReLU network with two hidden layers and no biases on the CIFAR10 dataset. For now we will use only low-level TensorFlow operators to define the network; later we will see how to use the higher-level abstractions provided by tf.keras to simplify the process.\n",
    "\n",
    "We will define the forward pass of the network in the function TwoLayerFCNeuralNetwork; this will accept TensorFlow Tensors for the inputs and weights of the network, and return a TensorFlow Tensor for the scores.\n",
    "\n",
    "After defining the network architecture in the TwoLayerFCNeuralNetwork function, we will test the implementation by checking the shape of the output.\n",
    "\n",
    "It's important that you read and understand this implementation."
   ]
  },
  {
   "cell_type": "code",
   "execution_count": 7,
   "metadata": {
    "id": "M8QkMU5i9IKW"
   },
   "outputs": [],
   "source": [
    "def TwoLayerFCNeuralNetwork(x, params):\n",
    "    \"\"\"\n",
    "    A fully-connected neural network; the architecture is:\n",
    "    fully-connected layer -> ReLU -> fully connected layer.\n",
    "    Note that we only need to define the forward pass here; TensorFlow will take\n",
    "    care of computing the gradients for us.\n",
    "\n",
    "    The input to the network will be a minibatch of data, of shape\n",
    "    (N, d1, ..., dM) where d1 * ... * dM = D. The hidden layer will have H units,\n",
    "    and the output layer will produce scores for C classes.\n",
    "\n",
    "    Inputs:\n",
    "    - x: A TensorFlow Tensor of shape (N, d1, ..., dM) giving a minibatch of\n",
    "      input data.\n",
    "    - params: A list [w1, w2] of TensorFlow Tensors giving weights for the\n",
    "      network, where w1 has shape (D, H) and w2 has shape (H, C).\n",
    "\n",
    "    Returns:\n",
    "    - scores: A TensorFlow Tensor of shape (N, C) giving classification scores\n",
    "      for the input data x.\n",
    "    \"\"\"\n",
    "    w1, w2 = params                   # Unpack the parameters\n",
    "    x = flatten(x)                    # Flatten the input; now x has shape (N, D)\n",
    "    h = tf.nn.relu(tf.matmul(x, w1))  # Hidden layer: h has shape (N, H)\n",
    "    scores = tf.matmul(h, w2)         # Compute scores of shape (N, C)\n",
    "    return scores"
   ]
  },
  {
   "cell_type": "code",
   "execution_count": 8,
   "metadata": {
    "id": "DnELPAAVACU5"
   },
   "outputs": [
    {
     "name": "stdout",
     "output_type": "stream",
     "text": [
      "(64, 10)\n"
     ]
    }
   ],
   "source": [
    "def TwoLayerFCNeuralNetwork_test():\n",
    "    hidden_layer_size = 42\n",
    "\n",
    "    # Scoping our TF operations under a tf.device context manager\n",
    "    # lets us tell TensorFlow where we want these Tensors to be\n",
    "    # multiplied and/or operated on, e.g. on a CPU or a GPU.\n",
    "    with tf.device(device):\n",
    "        x = tf.zeros((64, 32, 32, 3))\n",
    "        w1 = tf.zeros((32 * 32 * 3, hidden_layer_size))\n",
    "        w2 = tf.zeros((hidden_layer_size, 10))\n",
    "\n",
    "        # Call our TwoLayerFCNeuralNetwork function for the forward pass of the network.\n",
    "        scores = TwoLayerFCNeuralNetwork(x, [w1, w2])\n",
    "\n",
    "    print(scores.shape)\n",
    "\n",
    "TwoLayerFCNeuralNetwork_test()"
   ]
  },
  {
   "cell_type": "markdown",
   "metadata": {
    "id": "9iG28KKSAPWl"
   },
   "source": [
    "## Three-Layer ConvNet\n",
    "Here you will complete the implementation of the function ThreeLayerConvNet which will perform the forward pass of a three-layer convolutional network. The network should have the following architecture:\n",
    "\n",
    "A convolutional layer (with bias) with channel_1 filters, each with shape KW1 x KH1, and zero-padding of two\n",
    "ReLU nonlinearity\n",
    "A convolutional layer (with bias) with channel_2 filters, each with shape KW2 x KH2, and zero-padding of one\n",
    "ReLU nonlinearity\n",
    "Fully-connected layer with bias, producing scores for C classes.\n",
    "\n",
    "HINT: For convolutions: https://www.tensorflow.org/versions/r2.0/api_docs/python/tf/nn/conv2d; be careful with padding!\n",
    "\n",
    "HINT: For biases: https://www.tensorflow.org/performance/xla/broadcasting"
   ]
  },
  {
   "cell_type": "code",
   "execution_count": 9,
   "metadata": {
    "id": "0T-cxhFzACdw"
   },
   "outputs": [],
   "source": [
    "def ThreeLayerConvNet(x, params):\n",
    "    \"\"\"\n",
    "    A three-layer convolutional network with the architecture described above.\n",
    "\n",
    "    Inputs:\n",
    "    - x: A TensorFlow Tensor of shape (N, H, W, 3) giving a minibatch of images\n",
    "    - params: A list of TensorFlow Tensors giving the weights and biases for the\n",
    "      network; should contain the following:\n",
    "      - conv_w1: TensorFlow Tensor of shape (KH1, KW1, 3, channel_1) giving\n",
    "        weights for the first convolutional layer.\n",
    "      - conv_b1: TensorFlow Tensor of shape (channel_1,) giving biases for the\n",
    "        first convolutional layer.\n",
    "      - conv_w2: TensorFlow Tensor of shape (KH2, KW2, channel_1, channel_2)\n",
    "        giving weights for the second convolutional layer\n",
    "      - conv_b2: TensorFlow Tensor of shape (channel_2,) giving biases for the\n",
    "        second convolutional layer.\n",
    "      - fc_w: TensorFlow Tensor giving weights for the fully-connected layer.\n",
    "        Can you figure out what the shape should be?\n",
    "      - fc_b: TensorFlow Tensor giving biases for the fully-connected layer.\n",
    "        Can you figure out what the shape should be?\n",
    "    \"\"\"\n",
    "    conv_w1, conv_b1, conv_w2, conv_b2, fc_w, fc_b = params\n",
    "    scores = None\n",
    "    ############################################################################\n",
    "    # TODO: Implement the forward pass for the three-layer ConvNet.            #\n",
    "    ############################################################################\n",
    "    # *****START OF YOUR CODE (DO NOT DELETE/MODIFY THIS LINE)*****\n",
    "   \n",
    "    # First convolutional layer\n",
    "    conv1 = tf.nn.conv2d(x, conv_w1, strides=[1, 1, 1, 1], padding='SAME')\n",
    "    conv1 = tf.nn.bias_add(conv1, conv_b1)\n",
    "    conv1 = tf.nn.relu(conv1)\n",
    "\n",
    "    # Second convolutional layer\n",
    "    conv2 = tf.nn.conv2d(conv1, conv_w2, strides=[1, 1, 1, 1], padding='SAME')\n",
    "    conv2 = tf.nn.bias_add(conv2, conv_b2)\n",
    "    conv2 = tf.nn.relu(conv2)\n",
    "\n",
    "    # Fully connected layer\n",
    "    N, H, W, C = conv2.shape\n",
    "    flattened = tf.reshape(conv2, (N, -1))  # Flatten the feature maps\n",
    "    fc = tf.matmul(flattened, fc_w) + fc_b\n",
    "    scores = fc\n",
    "\n",
    "    # *****END OF YOUR CODE (DO NOT DELETE/MODIFY THIS LINE)*****\n",
    "    ############################################################################\n",
    "    #                              END OF YOUR CODE                            #\n",
    "    ############################################################################\n",
    "    return scores"
   ]
  },
  {
   "cell_type": "markdown",
   "metadata": {
    "id": "sb5oLOhNAbl9"
   },
   "source": [
    "After defing the forward pass of the three-layer ConvNet above, run the following cell to test your implementation. Like the two-layer network, we run the graph on a batch of zeros just to make sure the function doesn't crash, and produces outputs of the correct shape.\n",
    "\n",
    "When you run this function, scores_np should have shape (64, 10)."
   ]
  },
  {
   "cell_type": "code",
   "execution_count": 10,
   "metadata": {
    "id": "6M7vGsyfACmD"
   },
   "outputs": [
    {
     "name": "stdout",
     "output_type": "stream",
     "text": [
      "scores_np has shape:  (64, 10)\n"
     ]
    }
   ],
   "source": [
    "def ThreeLayerConvNetTest():\n",
    "\n",
    "    with tf.device(device):\n",
    "        x = tf.zeros((64, 32, 32, 3))\n",
    "        conv_w1 = tf.zeros((5, 5, 3, 6))\n",
    "        conv_b1 = tf.zeros((6,))\n",
    "        conv_w2 = tf.zeros((3, 3, 6, 9))\n",
    "        conv_b2 = tf.zeros((9,))\n",
    "        fc_w = tf.zeros((32 * 32 * 9, 10))\n",
    "        fc_b = tf.zeros((10,))\n",
    "        params = [conv_w1, conv_b1, conv_w2, conv_b2, fc_w, fc_b]\n",
    "        scores = ThreeLayerConvNet(x, params)\n",
    "\n",
    "    # Inputs to convolutional layers are 4-dimensional arrays with shape\n",
    "    # [batch_size, height, width, channels]\n",
    "    print('scores_np has shape: ', scores.shape)\n",
    "\n",
    "ThreeLayerConvNetTest()"
   ]
  },
  {
   "cell_type": "markdown",
   "metadata": {
    "id": "RbdYumq5AriO"
   },
   "source": [
    "### Training Step\n",
    "We now define the training_step function performs a single training step. This will take three basic steps:\n",
    "\n",
    "Compute the loss\n",
    "Compute the gradient of the loss with respect to all network weights\n",
    "Make a weight update step using (stochastic) gradient descent.\n",
    "We need to use a few new TensorFlow functions to do all of this:\n",
    "\n",
    "For computing the cross-entropy loss we'll use tf.nn.\n",
    "sparse_softmax_cross_entropy_with_logits: https://www.tensorflow.org/versions/r2.0/api_docs/python/tf/nn/sparse_softmax_cross_entropy_with_logits\n",
    "\n",
    "For averaging the loss across a minibatch of data we'll use tf.reduce_mean:\n",
    "\n",
    "https://www.tensorflow.org/versions/r2.0/api_docs/python/tf/reduce_mean\n",
    "\n",
    "For computing gradients of the loss with respect to the weights we'll use tf.GradientTape (useful for Eager execution): https://www.tensorflow.org/versions/r2.0/api_docs/python/tf/GradientTape\n",
    "\n",
    "We'll mutate the weight values stored in a TensorFlow Tensor using tf.compat.v1.assign_sub (\"sub\" is for subtraction): https://www.tensorflow.org/versions/r2.0/api_docs/python/tf/compat/v1/assign_sub"
   ]
  },
  {
   "cell_type": "code",
   "execution_count": 11,
   "metadata": {
    "id": "Ktt3BqEzAvVx"
   },
   "outputs": [],
   "source": [
    "def trainingStep(model_fn, x, y, params, learning_rate):\n",
    "    with tf.GradientTape() as tape:\n",
    "        scores = model_fn(x, params) # Forward pass of the model\n",
    "        loss = tf.nn.sparse_softmax_cross_entropy_with_logits(labels=y, logits=scores)\n",
    "        total_loss = tf.reduce_mean(loss)\n",
    "        grad_params = tape.gradient(total_loss, params)\n",
    "\n",
    "        # Make a vanilla gradient descent step on all of the model parameters\n",
    "        # Manually update the weights using assign_sub()\n",
    "        for w, grad_w in zip(params, grad_params):\n",
    "            w.assign_sub(learning_rate * grad_w)\n",
    "\n",
    "        return total_loss"
   ]
  },
  {
   "cell_type": "code",
   "execution_count": 12,
   "metadata": {
    "id": "k4xadUESA02j"
   },
   "outputs": [],
   "source": [
    "def trainingStep2(model_fn, init_fn, learning_rate):\n",
    "    \"\"\"\n",
    "    Train a model on CIFAR-10.\n",
    "\n",
    "    Inputs:\n",
    "    - model_fn: A Python function that performs the forward pass of the model\n",
    "      using TensorFlow; it should have the following signature:\n",
    "      scores = model_fn(x, params) where x is a TensorFlow Tensor giving a\n",
    "      minibatch of image data, params is a list of TensorFlow Tensors holding\n",
    "      the model weights, and scores is a TensorFlow Tensor of shape (N, C)\n",
    "      giving scores for all elements of x.\n",
    "    - init_fn: A Python function that initializes the parameters of the model.\n",
    "      It should have the signature params = init_fn() where params is a list\n",
    "      of TensorFlow Tensors holding the (randomly initialized) weights of the\n",
    "      model.\n",
    "    - learning_rate: Python float giving the learning rate to use for SGD.\n",
    "    \"\"\"\n",
    "    params = init_fn()  # Initialize the model parameters\n",
    "\n",
    "    for t, (x_np, y_np) in enumerate(train_dset):\n",
    "        # Run the graph on a batch of training data.\n",
    "        loss = trainingStep(model_fn, x_np, y_np, params, learning_rate)\n",
    "\n",
    "        # Periodically print the loss and check accuracy on the val set.\n",
    "        if t % print_every == 0:\n",
    "            print('Iteration %d, loss = %.4f' % (t, loss))\n",
    "            check_accuracy(val_dset, x_np, model_fn, params)"
   ]
  },
  {
   "cell_type": "code",
   "execution_count": 13,
   "metadata": {
    "id": "J2c2oOjqA1Bp"
   },
   "outputs": [],
   "source": [
    "def check_accuracy(dset, x, model_fn, params):\n",
    "    \"\"\"\n",
    "    Check accuracy on a classification model, e.g. for validation.\n",
    "\n",
    "    Inputs:\n",
    "    - dset: A Dataset object against which to check accuracy\n",
    "    - x: A TensorFlow placeholder Tensor where input images should be fed\n",
    "    - model_fn: the Model we will be calling to make predictions on x\n",
    "    - params: parameters for the model_fn to work with\n",
    "\n",
    "    Returns: Nothing, but prints the accuracy of the model\n",
    "    \"\"\"\n",
    "    num_correct, num_samples = 0, 0\n",
    "    for x_batch, y_batch in dset:\n",
    "        scores_np = model_fn(x_batch, params).numpy()\n",
    "        y_pred = scores_np.argmax(axis=1)\n",
    "        num_samples += x_batch.shape[0]\n",
    "        num_correct += (y_pred == y_batch).sum()\n",
    "    acc = float(num_correct) / num_samples\n",
    "    print('Got %d / %d correct (%.2f%%)' % (num_correct, num_samples, 100 * acc))"
   ]
  },
  {
   "cell_type": "markdown",
   "metadata": {
    "id": "a8Bi2AQFA_-X"
   },
   "source": [
    "### Initialization\n",
    "We'll use the following utility method to initialize the weight matrices for our models using Kaiming's normalization method.\n",
    "\n",
    "[1] He et al, Delving Deep into Rectifiers: Surpassing Human-Level Performance on ImageNet Classification , ICCV 2015, https://arxiv.org/abs/1502.01852"
   ]
  },
  {
   "cell_type": "code",
   "execution_count": 14,
   "metadata": {
    "id": "rRYZynwLA5K2"
   },
   "outputs": [],
   "source": [
    "def create_matrix_with_kaiming_normal(shape):\n",
    "    if len(shape) == 2:\n",
    "        fan_in, fan_out = shape[0], shape[1]\n",
    "    elif len(shape) == 4:\n",
    "        fan_in, fan_out = np.prod(shape[:3]), shape[3]\n",
    "    return tf.keras.backend.random_normal(shape) * np.sqrt(2.0 / fan_in)"
   ]
  },
  {
   "cell_type": "markdown",
   "metadata": {
    "id": "kGKP6D2oBLOD"
   },
   "source": [
    "### Train a Two-Layer Network\n",
    "We are finally ready to use all of the pieces defined above to train a two-layer fully-connected network on CIFAR-10.\n",
    "\n",
    "We just need to define a function to initialize the weights of the model, and call train_part2.\n",
    "\n",
    "Defining the weights of the network introduces another important piece of TensorFlow API: tf.Variable. A TensorFlow Variable is a Tensor whose value is stored in the graph and persists across runs of the computational graph; however unlike constants defined with tf.zeros or tf.random_normal, the values of a Variable can be mutated as the graph runs; these mutations will persist across graph runs. Learnable parameters of the network are usually stored in Variables.\n",
    "\n",
    "You don't need to tune any hyperparameters, but you should achieve validation accuracies above 40% after one epoch of training."
   ]
  },
  {
   "cell_type": "code",
   "execution_count": 15,
   "metadata": {
    "id": "D8C8_UOfA5Xv"
   },
   "outputs": [
    {
     "name": "stdout",
     "output_type": "stream",
     "text": [
      "Iteration 0, loss = 3.1796\n",
      "Got 124 / 1000 correct (12.40%)\n",
      "Iteration 100, loss = 1.8276\n",
      "Got 366 / 1000 correct (36.60%)\n",
      "Iteration 200, loss = 1.4889\n",
      "Got 382 / 1000 correct (38.20%)\n",
      "Iteration 300, loss = 1.7739\n",
      "Got 365 / 1000 correct (36.50%)\n",
      "Iteration 400, loss = 1.8209\n",
      "Got 417 / 1000 correct (41.70%)\n",
      "Iteration 500, loss = 1.7822\n",
      "Got 434 / 1000 correct (43.40%)\n",
      "Iteration 600, loss = 1.7922\n",
      "Got 418 / 1000 correct (41.80%)\n",
      "Iteration 700, loss = 1.9471\n",
      "Got 418 / 1000 correct (41.80%)\n"
     ]
    }
   ],
   "source": [
    "def TwoLayerFCNeuralNetwork_init():\n",
    "    \"\"\"\n",
    "    Initialize the weights of a two-layer network, for use with the\n",
    "    TwoLayerFCNeuralNetwork function defined above.\n",
    "    You can use the `create_matrix_with_kaiming_normal` helper!\n",
    "\n",
    "    Inputs: None\n",
    "\n",
    "    Returns: A list of:\n",
    "    - w1: TensorFlow tf.Variable giving the weights for the first layer\n",
    "    - w2: TensorFlow tf.Variable giving the weights for the second layer\n",
    "    \"\"\"\n",
    "    hidden_layer_size = 4000\n",
    "    w1 = tf.Variable(create_matrix_with_kaiming_normal((3 * 32 * 32, 4000)))\n",
    "    w2 = tf.Variable(create_matrix_with_kaiming_normal((4000, 10)))\n",
    "    return [w1, w2]\n",
    "learning_rate = 1e-2\n",
    "trainingStep2(TwoLayerFCNeuralNetwork, TwoLayerFCNeuralNetwork_init, learning_rate)"
   ]
  },
  {
   "cell_type": "markdown",
   "metadata": {
    "id": "hsxyBeOBBYuL"
   },
   "source": [
    "### Train a three-layer ConvNet\n",
    "We will now use TensorFlow to train a three-layer ConvNet on CIFAR-10.\n",
    "\n",
    "You need to implement the ThreeLayerConvNet_init function. Recall that the architecture of the network is:\n",
    "\n",
    "Convolutional layer (with bias) with 32 5x5 filters, with zero-padding 2\n",
    "ReLU\n",
    "Convolutional layer (with bias) with 16 3x3 filters, with zero-padding 1\n",
    "ReLU\n",
    "Fully-connected layer (with bias) to compute scores for 10 classes\n",
    "You don't need to do any hyperparameter tuning, but you should see validation accuracies above 43% after one epoch of training.\n"
   ]
  },
  {
   "cell_type": "code",
   "execution_count": 16,
   "metadata": {
    "id": "3s4pC1YrA5fB"
   },
   "outputs": [
    {
     "name": "stdout",
     "output_type": "stream",
     "text": [
      "Iteration 0, loss = 2.8774\n",
      "Got 88 / 1000 correct (8.80%)\n",
      "Iteration 100, loss = 1.8314\n",
      "Got 358 / 1000 correct (35.80%)\n",
      "Iteration 200, loss = 1.5761\n",
      "Got 387 / 1000 correct (38.70%)\n",
      "Iteration 300, loss = 1.6778\n",
      "Got 382 / 1000 correct (38.20%)\n",
      "Iteration 400, loss = 1.5478\n",
      "Got 420 / 1000 correct (42.00%)\n",
      "Iteration 500, loss = 1.7178\n",
      "Got 446 / 1000 correct (44.60%)\n",
      "Iteration 600, loss = 1.6588\n",
      "Got 460 / 1000 correct (46.00%)\n",
      "Iteration 700, loss = 1.6797\n",
      "Got 462 / 1000 correct (46.20%)\n"
     ]
    }
   ],
   "source": [
    "def ThreeLayerConvNet_init():\n",
    "    \"\"\"\n",
    "    Initialize the weights of a Three-Layer ConvNet, for use with the\n",
    "    ThreeLayerConvNet function defined above.\n",
    "    You can use the `create_matrix_with_kaiming_normal` helper!\n",
    "\n",
    "    Inputs: None\n",
    "\n",
    "    Returns a list containing:\n",
    "    - conv_w1: TensorFlow tf.Variable giving weights for the first conv layer\n",
    "    - conv_b1: TensorFlow tf.Variable giving biases for the first conv layer\n",
    "    - conv_w2: TensorFlow tf.Variable giving weights for the second conv layer\n",
    "    - conv_b2: TensorFlow tf.Variable giving biases for the second conv layer\n",
    "    - fc_w: TensorFlow tf.Variable giving weights for the fully-connected layer\n",
    "    - fc_b: TensorFlow tf.Variable giving biases for the fully-connected layer\n",
    "    \"\"\"\n",
    "    params = None\n",
    "    ############################################################################\n",
    "    # TODO: Initialize the parameters of the three-layer network.              #\n",
    "    ############################################################################\n",
    "    # *****START OF YOUR CODE (DO NOT DELETE/MODIFY THIS LINE)*****\n",
    "    \n",
    "    num_classes = 10\n",
    "    H_out, W_out = 32, 32\n",
    "    channel_1, channel_2 = 32, 16\n",
    "    filter_1, filter_2 = (5, 5), (3, 3)\n",
    "    \n",
    "    # Initialize weights for the first convolutional layer\n",
    "    conv_w1 = tf.Variable(create_matrix_with_kaiming_normal((*filter_1, 3, channel_1)))\n",
    "    conv_b1 = tf.Variable(tf.zeros(channel_1))\n",
    "    \n",
    "    # Initialize weights for the second convolutional layer\n",
    "    conv_w2 = tf.Variable(create_matrix_with_kaiming_normal((*filter_2, channel_1, channel_2)))\n",
    "    conv_b2 = tf.Variable(tf.zeros(channel_2))\n",
    "    \n",
    "    # Initialize weights for the fully connected layer\n",
    "    fc_w = tf.Variable(create_matrix_with_kaiming_normal((H_out * W_out * channel_2, num_classes)))\n",
    "    fc_b = tf.Variable(tf.zeros(num_classes))\n",
    "    \n",
    "    params = [conv_w1, conv_b1, conv_w2, conv_b2, fc_w, fc_b]\n",
    "\n",
    "    # *****END OF YOUR CODE (DO NOT DELETE/MODIFY THIS LINE)*****\n",
    "    ############################################################################\n",
    "    #                             END OF YOUR CODE                             #\n",
    "    ############################################################################\n",
    "    return params\n",
    "\n",
    "learning_rate = 3e-3\n",
    "trainingStep2(ThreeLayerConvNet, ThreeLayerConvNet_init, learning_rate)"
   ]
  },
  {
   "cell_type": "markdown",
   "metadata": {
    "id": "O3w8LGTcBs9y"
   },
   "source": [
    "## Part III: Keras Model Subclassing API\n",
    "Implementing a neural network using the low-level TensorFlow API is a good way to understand how TensorFlow works, but it's a little inconvenient - we had to manually keep track of all Tensors holding learnable parameters. This was fine for a small network, but could quickly become unweildy for a large complex model.\n",
    "\n",
    "Fortunately TensorFlow 2.0 provides higher-level APIs such as tf.keras which make it easy to build models out of modular, object-oriented layers. Further, TensorFlow 2.0 uses eager execution that evaluates operations immediately, without explicitly constructing any computational graphs. This makes it easy to write and debug models, and reduces the boilerplate code.\n",
    "\n",
    "In this part of the notebook we will define neural network models using the tf.keras.Model API. To implement your own model, you need to do the following:\n",
    "\n",
    "Define a new class which subclasses tf.keras.Model. Give your class an intuitive name that describes it, like twoLayerFC or threeLayerConvNet.\n",
    "In the initializer __init__() for your new class, define all the layers you need as class attributes. The tf.keras.layers package provides many common neural-network layers, like tf.keras.layers.Dense for fully-connected layers and tf.keras.layers.Conv2D for convolutional layers. Under the hood, these layers will construct Variable Tensors for any learnable parameters. Warning: Don't forget to call super(YourModelName, self).__init__() as the first line in your initializer!\n",
    "Implement the call() method for your class; this implements the forward pass of your model, and defines the connectivity of your network. Layers defined in __init__() implement __call__() so they can be used as function objects that transform input Tensors into output Tensors. Don't define any new layers in call(); any layers you want to use in the forward pass should be defined in __init__().\n",
    "After you define your tf.keras.Model subclass, you can instantiate it and use it like the model functions from Part II.\n",
    "\n",
    "Keras Model Subclassing API: Two-Layer Network\n",
    "Here is a concrete example of using the tf.keras.Model API to define a two-layer network. There are a few new bits of API to be aware of here:\n",
    "\n",
    "We use an Initializer object to set up the initial values of the learnable parameters of the layers; in particular tf.initializers.VarianceScaling gives behavior similar to the Kaiming initialization method we used in Part II. You can read more about it here: https://www.tensorflow.org/versions/r2.0/api_docs/python/tf/initializers/VarianceScaling\n",
    "\n",
    "We construct tf.keras.layers.Dense objects to represent the two fully-connected layers of the model. In addition to multiplying their input by a weight matrix and adding a bias vector, these layer can also apply a nonlinearity for you. For the first layer we specify a ReLU activation function by passing activation='relu' to the constructor; the second layer uses softmax activation function. Finally, we use tf.keras.layers.Flatten to flatten the output from the previous fully-connected layer."
   ]
  },
  {
   "cell_type": "code",
   "execution_count": 17,
   "metadata": {
    "id": "9gAEujFYBh4k"
   },
   "outputs": [
    {
     "name": "stdout",
     "output_type": "stream",
     "text": [
      "(64, 10)\n"
     ]
    },
    {
     "name": "stderr",
     "output_type": "stream",
     "text": [
      "/home/dscerbo/miniconda3/lib/python3.11/site-packages/keras/src/initializers/initializers.py:120: UserWarning: The initializer VarianceScaling is unseeded and being called multiple times, which will return identical values each time (even if the initializer is unseeded). Please update your code to provide a seed to the initializer, or avoid using the same initializer instance more than once.\n",
      "  warnings.warn(\n"
     ]
    }
   ],
   "source": [
    "class twoLayerFC(tf.keras.Model):\n",
    "    def __init__(self, hidden_size, num_classes):\n",
    "        super(twoLayerFC, self).__init__()\n",
    "        initializer = tf.initializers.VarianceScaling(scale=2.0)\n",
    "        self.fc1 = tf.keras.layers.Dense(hidden_size, activation='relu',\n",
    "                                   kernel_initializer=initializer)\n",
    "        self.fc2 = tf.keras.layers.Dense(num_classes, activation='softmax',\n",
    "                                   kernel_initializer=initializer)\n",
    "        self.flatten = tf.keras.layers.Flatten()\n",
    "\n",
    "    def call(self, x, training=False):\n",
    "        x = self.flatten(x)\n",
    "        x = self.fc1(x)\n",
    "        x = self.fc2(x)\n",
    "        return x\n",
    "\n",
    "\n",
    "def twoLayerFC_test():\n",
    "    \"\"\" A small unit test to exercise the TwoLayerFC model above. \"\"\"\n",
    "    input_size, hidden_size, num_classes = 50, 42, 10\n",
    "    x = tf.zeros((64, input_size))\n",
    "    model = twoLayerFC(hidden_size, num_classes)\n",
    "    with tf.device(device):\n",
    "        scores = model(x)\n",
    "        print(scores.shape)\n",
    "\n",
    "twoLayerFC_test()"
   ]
  },
  {
   "cell_type": "markdown",
   "metadata": {
    "id": "4KU3U09CB99C"
   },
   "source": [
    "### Keras Model Subclassing API: Three-Layer ConvNet\n",
    "Now it's your turn to implement a three-layer ConvNet using the tf.keras.Model API. Your model should have the same architecture used in Part II:\n",
    "\n",
    "Convolutional layer with 5 x 5 kernels, with zero-padding of 2\n",
    "ReLU nonlinearity\n",
    "Convolutional layer with 3 x 3 kernels, with zero-padding of 1\n",
    "ReLU nonlinearity\n",
    "Fully-connected layer to give class scores\n",
    "Softmax nonlinearity\n",
    "You should initialize the weights of your network using the same initialization method as was used in the two-layer network above.\n",
    "\n",
    "Hint: Refer to the documentation for tf.keras.layers.Conv2D and tf.keras.layers.Dense:\n",
    "\n",
    "https://www.tensorflow.org/versions/r2.0/api_docs/python/tf/keras/layers/Conv2D\n",
    "\n",
    "https://www.tensorflow.org/versions/r2.0/api_docs/python/tf/keras/layers/Dense"
   ]
  },
  {
   "cell_type": "code",
   "execution_count": 18,
   "metadata": {
    "id": "enSGhF2GCDVx"
   },
   "outputs": [],
   "source": [
    "class threeLayerConvNet(tf.keras.Model):\n",
    "    def __init__(self, channel_1, channel_2, num_classes):\n",
    "        super(threeLayerConvNet, self).__init__()\n",
    "        ########################################################################\n",
    "        # TODO: Implement the __init__ method for a three-layer ConvNet. You   #\n",
    "        # should instantiate layer objects to be used in the forward pass.     #\n",
    "        ########################################################################\n",
    "        # *****START OF YOUR CODE (DO NOT DELETE/MODIFY THIS LINE)*****\n",
    "        \n",
    "        initializer = tf.initializers.VarianceScaling(scale=2.0)\n",
    "        self.conv1 = tf.keras.layers.Conv2D(channel_1, (5, 5), \n",
    "                                            padding='same', activation='relu', \n",
    "                                            kernel_initializer=initializer)\n",
    "        \n",
    "        self.conv2 = tf.keras.layers.Conv2D(channel_2, (3, 3), \n",
    "                                            padding='same', activation='relu', \n",
    "                                            kernel_initializer=initializer)\n",
    "        \n",
    "        self.flatten = tf.keras.layers.Flatten()\n",
    "        self.fc = tf.keras.layers.Dense(num_classes, activation='softmax',\n",
    "                                        kernel_initializer=initializer)\n",
    "\n",
    "        # *****END OF YOUR CODE (DO NOT DELETE/MODIFY THIS LINE)*****\n",
    "        ########################################################################\n",
    "        #                           END OF YOUR CODE                           #\n",
    "        ########################################################################\n",
    "\n",
    "    def call(self, x, training=False):\n",
    "        scores = None\n",
    "        ########################################################################\n",
    "        # TODO: Implement the forward pass for a three-layer ConvNet. You      #\n",
    "        # should use the layer objects defined in the __init__ method.         #\n",
    "        ########################################################################\n",
    "        # *****START OF YOUR CODE (DO NOT DELETE/MODIFY THIS LINE)*****\n",
    "\n",
    "        x = self.conv1(x)\n",
    "        x = self.conv2(x)\n",
    "        x = self.flatten(x)\n",
    "        scores = self.fc(x)\n",
    "        \n",
    "        # *****END OF YOUR CODE (DO NOT DELETE/MODIFY THIS LINE)*****\n",
    "        ########################################################################\n",
    "        #                           END OF YOUR CODE                           #\n",
    "        ########################################################################\n",
    "        return scores"
   ]
  },
  {
   "cell_type": "markdown",
   "metadata": {
    "id": "iYuoOEzxDHN_"
   },
   "source": [
    "Once you complete the implementation of the threeLayerConvNet above you can run the following to ensure that your implementation does not crash and produces outputs of the expected shape."
   ]
  },
  {
   "cell_type": "code",
   "execution_count": 19,
   "metadata": {
    "id": "LLmOo_bPDHbJ"
   },
   "outputs": [
    {
     "name": "stdout",
     "output_type": "stream",
     "text": [
      "(64, 10)\n"
     ]
    }
   ],
   "source": [
    "def threeLayerConvNet_test():\n",
    "    channel_1, channel_2, num_classes = 12, 8, 10\n",
    "    model = threeLayerConvNet(channel_1, channel_2, num_classes)\n",
    "    with tf.device(device):\n",
    "        x = tf.zeros((64, 3, 32, 32))\n",
    "        scores = model(x)\n",
    "        print(scores.shape)\n",
    "\n",
    "threeLayerConvNet_test()"
   ]
  },
  {
   "cell_type": "markdown",
   "metadata": {
    "id": "5bHuYTJQDp5B"
   },
   "source": [
    "### Keras Model Subclassing API: Eager Training\n",
    "While keras models have a builtin training loop (using the model.fit), sometimes you need more customization. Here's an example, of a training loop implemented with eager execution.\n",
    "\n",
    "In particular, notice tf.GradientTape. Automatic differentiation is used in the backend for implementing backpropagation in frameworks like TensorFlow. During eager execution, tf.GradientTape is used to trace operations for computing gradients later. A particular tf.GradientTape can only compute one gradient; subsequent calls to tape will throw a runtime error.\n",
    "\n",
    "TensorFlow 2.0 ships with easy-to-use built-in metrics under tf.keras.metrics module. Each metric is an object, and we can use update_state() to add observations and reset_state() to clear all observations. We can get the current result of a metric by calling result() on the metric object."
   ]
  },
  {
   "cell_type": "code",
   "execution_count": 20,
   "metadata": {
    "id": "VrVCykgiDoer"
   },
   "outputs": [],
   "source": [
    "def training_part3(model_init_fn, optimizer_init_fn, num_epochs=1, is_training=False):\n",
    "    \"\"\"\n",
    "    Simple training loop for use with models defined using tf.keras. It trains\n",
    "    a model for one epoch on the CIFAR-10 training set and periodically checks\n",
    "    accuracy on the CIFAR-10 validation set.\n",
    "\n",
    "    Inputs:\n",
    "    - model_init_fn: A function that takes no parameters; when called it\n",
    "      constructs the model we want to train: model = model_init_fn()\n",
    "    - optimizer_init_fn: A function which takes no parameters; when called it\n",
    "      constructs the Optimizer object we will use to optimize the model:\n",
    "      optimizer = optimizer_init_fn()\n",
    "    - num_epochs: The number of epochs to train for\n",
    "\n",
    "    Returns: Nothing, but prints progress during trainingn\n",
    "    \"\"\"\n",
    "    with tf.device(device):\n",
    "\n",
    "        # Compute the loss like we did in Part II\n",
    "        loss_fn = tf.keras.losses.SparseCategoricalCrossentropy()\n",
    "\n",
    "        model = model_init_fn()\n",
    "        optimizer = optimizer_init_fn()\n",
    "\n",
    "        train_loss = tf.keras.metrics.Mean(name='train_loss')\n",
    "        train_accuracy = tf.keras.metrics.SparseCategoricalAccuracy(name='train_accuracy')\n",
    "\n",
    "        val_loss = tf.keras.metrics.Mean(name='val_loss')\n",
    "        val_accuracy = tf.keras.metrics.SparseCategoricalAccuracy(name='val_accuracy')\n",
    "\n",
    "        t = 0\n",
    "        for epoch in range(num_epochs):\n",
    "\n",
    "            # Reset the metrics - https://www.tensorflow.org/alpha/guide/migration_guide#new-style_metrics\n",
    "            train_loss.reset_states()\n",
    "            train_accuracy.reset_states()\n",
    "\n",
    "            for x_np, y_np in train_dset:\n",
    "                with tf.GradientTape() as tape:\n",
    "\n",
    "                    # Use the model function to build the forward pass.\n",
    "                    scores = model(x_np, training=is_training)\n",
    "                    loss = loss_fn(y_np, scores)\n",
    "\n",
    "                    gradients = tape.gradient(loss, model.trainable_variables)\n",
    "                    optimizer.apply_gradients(zip(gradients, model.trainable_variables))\n",
    "\n",
    "                    # Update the metrics\n",
    "                    train_loss.update_state(loss)\n",
    "                    train_accuracy.update_state(y_np, scores)\n",
    "\n",
    "                    if t % print_every == 0:\n",
    "                        val_loss.reset_states()\n",
    "                        val_accuracy.reset_states()\n",
    "                        for test_x, test_y in val_dset:\n",
    "                            # During validation at end of epoch, training set to False\n",
    "                            prediction = model(test_x, training=False)\n",
    "                            t_loss = loss_fn(test_y, prediction)\n",
    "\n",
    "                            val_loss.update_state(t_loss)\n",
    "                            val_accuracy.update_state(test_y, prediction)\n",
    "\n",
    "                        template = 'Iteration {}, Epoch {}, Loss: {:.4f}, Accuracy: {:.4f}, Val Loss: {:.4f}, Val Accuracy: {:.4f}'\n",
    "                        print (template.format(t, epoch+1,\n",
    "                                             train_loss.result(),\n",
    "                                             train_accuracy.result()*100,\n",
    "                                             val_loss.result(),\n",
    "                                             val_accuracy.result()*100))\n",
    "                    t += 1"
   ]
  },
  {
   "cell_type": "markdown",
   "metadata": {
    "id": "yHeDvt8lDx1P"
   },
   "source": [
    "### Keras Model Subclassing API: Train a Two-Layer Network\n",
    "We can now use the tools defined above to train a two-layer network on CIFAR-10. We define the model_init_fn and optimizer_init_fn that construct the model and optimizer respectively when called. Here we want to train the model using stochastic gradient descent with no momentum, so we construct a tf.keras.optimizers.SGD function; you can read about it here.\n",
    "\n",
    "You don't need to tune any hyperparameters here, but you should achieve validation accuracies above 40% after one epoch of training."
   ]
  },
  {
   "cell_type": "code",
   "execution_count": 21,
   "metadata": {
    "id": "GXwnvdb-DzoD"
   },
   "outputs": [
    {
     "name": "stdout",
     "output_type": "stream",
     "text": [
      "Iteration 0, Epoch 1, Loss: 3.0493, Accuracy: 9.3750, Val Loss: 2.8898, Val Accuracy: 13.6000\n",
      "Iteration 100, Epoch 1, Loss: 2.2398, Accuracy: 28.3571, Val Loss: 1.9229, Val Accuracy: 36.4000\n",
      "Iteration 200, Epoch 1, Loss: 2.0746, Accuracy: 32.1828, Val Loss: 1.8892, Val Accuracy: 38.3000\n",
      "Iteration 300, Epoch 1, Loss: 2.0002, Accuracy: 34.0739, Val Loss: 1.8684, Val Accuracy: 37.9000\n",
      "Iteration 400, Epoch 1, Loss: 1.9271, Accuracy: 36.0115, Val Loss: 1.7549, Val Accuracy: 40.9000\n",
      "Iteration 500, Epoch 1, Loss: 1.8841, Accuracy: 37.0259, Val Loss: 1.6879, Val Accuracy: 42.0000\n",
      "Iteration 600, Epoch 1, Loss: 1.8542, Accuracy: 37.9680, Val Loss: 1.7030, Val Accuracy: 41.3000\n",
      "Iteration 700, Epoch 1, Loss: 1.8281, Accuracy: 38.6167, Val Loss: 1.6509, Val Accuracy: 44.1000\n"
     ]
    }
   ],
   "source": [
    "hidden_size, num_classes = 4000, 10\n",
    "learning_rate = 1e-2\n",
    "\n",
    "def model_init_fn():\n",
    "    return twoLayerFC(hidden_size, num_classes)\n",
    "\n",
    "def optimizer_init_fn():\n",
    "    return tf.keras.optimizers.SGD(learning_rate=learning_rate)\n",
    "\n",
    "training_part3(model_init_fn, optimizer_init_fn)"
   ]
  },
  {
   "cell_type": "markdown",
   "metadata": {
    "id": "Bnzam9-eD5hO"
   },
   "source": [
    "### Keras Model Subclassing API: Train a Three-Layer ConvNet\n",
    "Here you should use the tools we've defined above to train a three-layer ConvNet on CIFAR-10. Your ConvNet should use 32 filters in the first convolutional layer and 16 filters in the second layer.\n",
    "\n",
    "To train the model you should use gradient descent with Nesterov momentum 0.9.\n",
    "\n",
    "HINT: https://www.tensorflow.org/versions/r2.0/api_docs/python/tf/optimizers/SGD\n",
    "\n",
    "You don't need to perform any hyperparameter tuning, but you should achieve validation accuracies above 50% after training for one epoch."
   ]
  },
  {
   "cell_type": "code",
   "execution_count": 22,
   "metadata": {
    "id": "3r0Rof6uD67F"
   },
   "outputs": [
    {
     "name": "stdout",
     "output_type": "stream",
     "text": [
      "Iteration 0, Epoch 1, Loss: 3.0440, Accuracy: 4.6875, Val Loss: 6.9287, Val Accuracy: 8.1000\n",
      "Iteration 100, Epoch 1, Loss: 2.1411, Accuracy: 27.4134, Val Loss: 1.8235, Val Accuracy: 37.6000\n",
      "Iteration 200, Epoch 1, Loss: 1.9400, Accuracy: 33.1468, Val Loss: 1.6038, Val Accuracy: 46.0000\n",
      "Iteration 300, Epoch 1, Loss: 1.8242, Accuracy: 36.6123, Val Loss: 1.5408, Val Accuracy: 45.8000\n",
      "Iteration 400, Epoch 1, Loss: 1.7339, Accuracy: 39.5496, Val Loss: 1.4484, Val Accuracy: 48.3000\n",
      "Iteration 500, Epoch 1, Loss: 1.6706, Accuracy: 41.4577, Val Loss: 1.3807, Val Accuracy: 50.2000\n",
      "Iteration 600, Epoch 1, Loss: 1.6259, Accuracy: 42.9753, Val Loss: 1.3452, Val Accuracy: 51.9000\n",
      "Iteration 700, Epoch 1, Loss: 1.5872, Accuracy: 44.3429, Val Loss: 1.3262, Val Accuracy: 53.5000\n"
     ]
    }
   ],
   "source": [
    "learning_rate = 3e-3\n",
    "channel_1, channel_2, num_classes = 32, 16, 10\n",
    "\n",
    "def model_init_fn():\n",
    "    model = None\n",
    "    ############################################################################\n",
    "    # TODO: Complete the implementation of model_fn.                           #\n",
    "    ############################################################################\n",
    "    # *****START OF YOUR CODE (DO NOT DELETE/MODIFY THIS LINE)*****\n",
    "\n",
    "    model = threeLayerConvNet(channel_1, channel_2, num_classes)\n",
    "\n",
    "    # *****END OF YOUR CODE (DO NOT DELETE/MODIFY THIS LINE)*****\n",
    "    ############################################################################\n",
    "    #                           END OF YOUR CODE                               #\n",
    "    ############################################################################\n",
    "    return model\n",
    "\n",
    "def optimizer_init_fn():\n",
    "    optimizer = None\n",
    "    ############################################################################\n",
    "    # TODO: Complete the implementation of model_fn.                           #\n",
    "    ############################################################################\n",
    "    # *****START OF YOUR CODE (DO NOT DELETE/MODIFY THIS LINE)*****\n",
    "\n",
    "    optimizer = tf.keras.optimizers.SGD(learning_rate=learning_rate, \n",
    "                                        momentum=0.9, nesterov=True)\n",
    "    \n",
    "    # *****END OF YOUR CODE (DO NOT DELETE/MODIFY THIS LINE)*****\n",
    "    ############################################################################\n",
    "    #                           END OF YOUR CODE                               #\n",
    "    ############################################################################\n",
    "    return optimizer\n",
    "\n",
    "training_part3(model_init_fn, optimizer_init_fn)"
   ]
  },
  {
   "cell_type": "markdown",
   "metadata": {
    "id": "TsgyZELNEBTf"
   },
   "source": [
    "## Part IV: Keras Sequential API\n",
    "In Part III we introduced the tf.keras.Model API, which allows you to define models with any number of learnable layers and with arbitrary connectivity between layers.\n",
    "\n",
    "However for many models you don't need such flexibility - a lot of models can be expressed as a sequential stack of layers, with the output of each layer fed to the next layer as input. If your model fits this pattern, then there is an even easier way to define your model: using tf.keras.Sequential. You don't need to write any custom classes; you simply call the tf.keras.Sequential constructor with a list containing a sequence of layer objects.\n",
    "\n",
    "One complication with tf.keras.Sequential is that you must define the shape of the input to the model by passing a value to the input_shape of the first layer in your model.\n",
    "\n",
    "Keras Sequential API: Two-Layer Network\n",
    "In this subsection, we will rewrite the two-layer fully-connected network using tf.keras.Sequential, and train it using the training loop defined above.\n",
    "\n",
    "You don't need to perform any hyperparameter tuning here, but you should see validation accuracies above 40% after training for one epoch."
   ]
  },
  {
   "cell_type": "code",
   "execution_count": 23,
   "metadata": {
    "id": "Lek8QCNEEDGA"
   },
   "outputs": [
    {
     "name": "stdout",
     "output_type": "stream",
     "text": [
      "Iteration 0, Epoch 1, Loss: 3.0360, Accuracy: 6.2500, Val Loss: 3.1819, Val Accuracy: 12.3000\n",
      "Iteration 100, Epoch 1, Loss: 2.2565, Accuracy: 28.5736, Val Loss: 1.9352, Val Accuracy: 38.0000\n",
      "Iteration 200, Epoch 1, Loss: 2.0885, Accuracy: 32.0040, Val Loss: 1.8861, Val Accuracy: 39.5000\n",
      "Iteration 300, Epoch 1, Loss: 2.0091, Accuracy: 33.6119, Val Loss: 1.9263, Val Accuracy: 37.2000\n",
      "Iteration 400, Epoch 1, Loss: 1.9391, Accuracy: 35.7232, Val Loss: 1.7404, Val Accuracy: 43.0000\n",
      "Iteration 500, Epoch 1, Loss: 1.8931, Accuracy: 36.8669, Val Loss: 1.6780, Val Accuracy: 43.4000\n",
      "Iteration 600, Epoch 1, Loss: 1.8615, Accuracy: 37.7288, Val Loss: 1.6913, Val Accuracy: 42.2000\n",
      "Iteration 700, Epoch 1, Loss: 1.8349, Accuracy: 38.4027, Val Loss: 1.6511, Val Accuracy: 43.7000\n"
     ]
    }
   ],
   "source": [
    "learning_rate = 1e-2\n",
    "\n",
    "def model_init_fn():\n",
    "    input_shape = (32, 32, 3)\n",
    "    hidden_layer_size, num_classes = 4000, 10\n",
    "    initializer = tf.initializers.VarianceScaling(scale=2.0)\n",
    "    layers = [\n",
    "        tf.keras.layers.Flatten(input_shape=input_shape),\n",
    "        tf.keras.layers.Dense(hidden_layer_size, activation='relu',\n",
    "                              kernel_initializer=initializer),\n",
    "        tf.keras.layers.Dense(num_classes, activation='softmax',\n",
    "                              kernel_initializer=initializer),\n",
    "    ]\n",
    "    model = tf.keras.Sequential(layers)\n",
    "    return model\n",
    "\n",
    "def optimizer_init_fn():\n",
    "    return tf.keras.optimizers.SGD(learning_rate=learning_rate)\n",
    "\n",
    "training_part3(model_init_fn, optimizer_init_fn)"
   ]
  },
  {
   "cell_type": "markdown",
   "metadata": {
    "id": "3Vbvvp3HEJlg"
   },
   "source": [
    "### Abstracting Away the Training Loop\n",
    "In the previous examples, we used a customised training loop to train models (e.g. train_part34). Writing your own training loop is only required if you need more flexibility and control during training your model. Alternately, you can also use built-in APIs like tf.keras.Model.fit() and tf.keras.Model.evaluate to train and evaluate a model. Also remember to configure your model for training by calling `tf.keras.Model.compile.\n",
    "\n",
    "You don't need to perform any hyperparameter tuning here, but you should see validation and test accuracies above 42% after training for one epoch."
   ]
  },
  {
   "cell_type": "code",
   "execution_count": 24,
   "metadata": {
    "id": "TybJsElPEUrU"
   },
   "outputs": [
    {
     "name": "stdout",
     "output_type": "stream",
     "text": [
      "766/766 [==============================] - 40s 52ms/step - loss: 1.8187 - sparse_categorical_accuracy: 0.3908 - val_loss: 1.6137 - val_sparse_categorical_accuracy: 0.4640\n",
      "313/313 [==============================] - 4s 13ms/step - loss: 1.6017 - sparse_categorical_accuracy: 0.4544\n"
     ]
    },
    {
     "data": {
      "text/plain": [
       "[1.6017005443572998, 0.4544000029563904]"
      ]
     },
     "execution_count": 24,
     "metadata": {},
     "output_type": "execute_result"
    }
   ],
   "source": [
    "model = model_init_fn()\n",
    "model.compile(optimizer=tf.keras.optimizers.SGD(learning_rate=learning_rate),\n",
    "              loss='sparse_categorical_crossentropy',\n",
    "              metrics=[tf.keras.metrics.sparse_categorical_accuracy])\n",
    "model.fit(X_train, y_train, batch_size=64, epochs=1, validation_data=(X_val, y_val))\n",
    "model.evaluate(X_test, y_test)"
   ]
  },
  {
   "cell_type": "markdown",
   "metadata": {
    "id": "bUmTp0-bEZFo"
   },
   "source": [
    "### Keras Sequential API: Three-Layer ConvNet\n",
    "Here you should use tf.keras.Sequential to reimplement the same three-layer ConvNet architecture used in Part II and Part III. As a reminder, your model should have the following architecture:\n",
    "\n",
    "Convolutional layer with 32 5x5 kernels, using zero padding of 2\n",
    "ReLU nonlinearity\n",
    "Convolutional layer with 16 3x3 kernels, using zero padding of 1\n",
    "ReLU nonlinearity\n",
    "Fully-connected layer giving class scores\n",
    "Softmax nonlinearity\n",
    "You should initialize the weights of the model using a tf.initializers.VarianceScaling as above.\n",
    "\n",
    "You should train the model using Nesterov momentum 0.9.\n",
    "\n",
    "You don't need to perform any hyperparameter search, but you should achieve accuracy above 45% after training for one epoch."
   ]
  },
  {
   "cell_type": "code",
   "execution_count": 25,
   "metadata": {
    "id": "UK7b2VHREahx"
   },
   "outputs": [
    {
     "name": "stdout",
     "output_type": "stream",
     "text": [
      "Iteration 0, Epoch 1, Loss: 2.8113, Accuracy: 7.8125, Val Loss: 2.6741, Val Accuracy: 7.7000\n",
      "Iteration 100, Epoch 1, Loss: 1.9780, Accuracy: 29.5637, Val Loss: 1.7857, Val Accuracy: 37.9000\n",
      "Iteration 200, Epoch 1, Loss: 1.8537, Accuracy: 34.6238, Val Loss: 1.6662, Val Accuracy: 43.3000\n",
      "Iteration 300, Epoch 1, Loss: 1.7860, Accuracy: 37.1522, Val Loss: 1.6252, Val Accuracy: 44.2000\n",
      "Iteration 400, Epoch 1, Loss: 1.7248, Accuracy: 39.1989, Val Loss: 1.5616, Val Accuracy: 46.1000\n",
      "Iteration 500, Epoch 1, Loss: 1.6828, Accuracy: 40.7560, Val Loss: 1.5085, Val Accuracy: 47.3000\n",
      "Iteration 600, Epoch 1, Loss: 1.6548, Accuracy: 41.8209, Val Loss: 1.4663, Val Accuracy: 50.1000\n",
      "Iteration 700, Epoch 1, Loss: 1.6273, Accuracy: 42.8294, Val Loss: 1.4332, Val Accuracy: 52.4000\n"
     ]
    }
   ],
   "source": [
    "def model_init_fn():\n",
    "    model = None\n",
    "    ############################################################################\n",
    "    # TODO: Construct a three-layer ConvNet using tf.keras.Sequential.         #\n",
    "    ############################################################################\n",
    "    # *****START OF YOUR CODE (DO NOT DELETE/MODIFY THIS LINE)*****\n",
    "    \n",
    "    input_shape = (32, 32, 3)\n",
    "    channel_1, channel_2, num_classes = 32, 16, 10\n",
    "    initializer = tf.initializers.VarianceScaling(scale=2.0)\n",
    "    layers = [\n",
    "        tf.keras.layers.Conv2D(channel_1, (5, 5), \n",
    "                               padding='same', activation='relu', \n",
    "                               kernel_initializer=initializer,\n",
    "                               input_shape=input_shape),\n",
    "        tf.keras.layers.Conv2D(channel_2, (3, 3), \n",
    "                               padding='same', activation='relu', \n",
    "                               kernel_initializer=initializer),\n",
    "        tf.keras.layers.Flatten(),\n",
    "        tf.keras.layers.Dense(num_classes, activation='softmax',\n",
    "                              kernel_initializer=initializer),\n",
    "    ]\n",
    "    model = tf.keras.Sequential(layers) \n",
    "\n",
    "    # *****END OF YOUR CODE (DO NOT DELETE/MODIFY THIS LINE)*****\n",
    "    ############################################################################\n",
    "    #                            END OF YOUR CODE                              #\n",
    "    ############################################################################\n",
    "    return model\n",
    "\n",
    "learning_rate = 5e-4\n",
    "def optimizer_init_fn():\n",
    "    optimizer = None\n",
    "    ############################################################################\n",
    "    # TODO: Complete the implementation of model_fn.                           #\n",
    "    ############################################################################\n",
    "    # *****START OF YOUR CODE (DO NOT DELETE/MODIFY THIS LINE)*****\n",
    "\n",
    "    optimizer = tf.keras.optimizers.SGD(learning_rate=learning_rate, \n",
    "                                        momentum=0.9, nesterov=True)\n",
    "\n",
    "    # *****END OF YOUR CODE (DO NOT DELETE/MODIFY THIS LINE)*****\n",
    "    ############################################################################\n",
    "    #                           END OF YOUR CODE                               #\n",
    "    ############################################################################\n",
    "    return optimizer\n",
    "\n",
    "training_part3(model_init_fn, optimizer_init_fn)"
   ]
  },
  {
   "cell_type": "markdown",
   "metadata": {
    "id": "t1UtU9vFEdzF"
   },
   "source": [
    "We will also train this model with the built-in training loop APIs provided by TensorFlow."
   ]
  },
  {
   "cell_type": "code",
   "execution_count": 26,
   "metadata": {
    "id": "OpK0E6MtEhz-"
   },
   "outputs": [
    {
     "name": "stdout",
     "output_type": "stream",
     "text": [
      "766/766 [==============================] - 30s 38ms/step - loss: 1.6006 - sparse_categorical_accuracy: 0.4376 - val_loss: 1.3753 - val_sparse_categorical_accuracy: 0.5140\n",
      "313/313 [==============================] - 3s 10ms/step - loss: 1.3714 - sparse_categorical_accuracy: 0.5175\n"
     ]
    },
    {
     "data": {
      "text/plain": [
       "[1.3714126348495483, 0.5174999833106995]"
      ]
     },
     "execution_count": 26,
     "metadata": {},
     "output_type": "execute_result"
    }
   ],
   "source": [
    "model = model_init_fn()\n",
    "model.compile(optimizer='sgd',\n",
    "              loss='sparse_categorical_crossentropy',\n",
    "              metrics=[tf.keras.metrics.sparse_categorical_accuracy])\n",
    "model.fit(X_train, y_train, batch_size=64, epochs=1, validation_data=(X_val, y_val))\n",
    "model.evaluate(X_test, y_test)"
   ]
  },
  {
   "cell_type": "markdown",
   "metadata": {
    "id": "m5EgkF87E_ci"
   },
   "source": [
    "### Part V: BONUS POINT - CIFAR-10 open-ended challenge\n",
    "In this section you can experiment with whatever ConvNet architecture you'd like on CIFAR-10.\n",
    "\n",
    "You should experiment with architectures, hyperparameters, loss functions, regularization, or anything else you can think of to train a model that achieves at least 70% accuracy on the validation set within 10 epochs. You can use the built-in train function, the training_part3 function from above, or implement your own training loop.\n",
    "\n",
    "Describe what you did at the end of the notebook.\n",
    "\n",
    "Some things you can try:\n",
    "Filter size: Above we used 5x5 and 3x3; is this optimal?\n",
    "Number of filters: Above we used 16 and 32 filters. Would more or fewer do better?\n",
    "Pooling: We didn't use any pooling above. Would this improve the model?\n",
    "Normalization: Would your model be improved with batch normalization, layer normalization, group normalization, or some other normalization strategy?\n",
    "Network architecture: The ConvNet above has only three layers of trainable parameters. Would a deeper model do better?\n",
    "Global average pooling: Instead of flattening after the final convolutional layer, would global average pooling do better? This strategy is used for example in Google's Inception network and in Residual Networks.\n",
    "Regularization: Would some kind of regularization improve performance? Maybe weight decay or dropout?\n",
    "NOTE: Batch Normalization / Dropout\n",
    "If you are using Batch Normalization and Dropout, remember to pass is_training=True if you use the training_part3() function. BatchNorm and Dropout layers have different behaviors at training and inference time. training is a specific keyword argument reserved for this purpose in any tf.keras.Model's call() function. Read more about this here : https://www.tensorflow.org/versions/r2.0/api_docs/python/tf/keras/layers/BatchNormalization#methods https://www.tensorflow.org/versions/r2.0/api_docs/python/tf/keras/layers/Dropout#methods\n",
    "\n",
    "Tips for training\n",
    "For each network architecture that you try, you should tune the learning rate and other hyperparameters. When doing this there are a couple important things to keep in mind:\n",
    "\n",
    "If the parameters are working well, you should see improvement within a few hundred iterations\n",
    "Remember the coarse-to-fine approach for hyperparameter tuning: start by testing a large range of hyperparameters for just a few training iterations to find the combinations of parameters that are working at all.\n",
    "Once you have found some sets of parameters that seem to work, search more finely around these parameters. You may need to train for more epochs.\n",
    "You should use the validation set for hyperparameter search, and save your test set for evaluating your architecture on the best parameters as selected by the validation set.\n",
    "Going above and beyond\n",
    "If you are feeling adventurous there are many other features you can implement to try and improve your performance. You are not required to implement any of these, but don't miss the fun if you have time!\n",
    "\n",
    "Alternative optimizers: you can try Adam, Adagrad, RMSprop, etc.\n",
    "Alternative activation functions such as leaky ReLU, parametric ReLU, ELU, or MaxOut.\n",
    "Model ensembles\n",
    "Data augmentation\n",
    "New Architectures\n",
    "ResNets where the input from the previous layer is added to the output.\n",
    "DenseNets where inputs into previous layers are concatenated together.\n",
    "Have fun and happy training!"
   ]
  },
  {
   "cell_type": "code",
   "execution_count": 27,
   "metadata": {
    "tags": []
   },
   "outputs": [],
   "source": [
    "# Test 1 Architecture\n",
    "\n",
    "def model_init_fn_1():\n",
    "    model = None\n",
    "    ############################################################################\n",
    "    # TODO: Construct a three-layer ConvNet using tf.keras.Sequential.         #\n",
    "    ############################################################################\n",
    "    # *****START OF YOUR CODE (DO NOT DELETE/MODIFY THIS LINE)*****\n",
    "    \n",
    "    input_shape = (32, 32, 3)\n",
    "    channel_1, channel_2, num_classes = 32, 16, 10\n",
    "    initializer = tf.initializers.VarianceScaling(scale=2.0)\n",
    "    layers = [\n",
    "        tf.keras.layers.Conv2D(channel_1, (5, 5), \n",
    "                               padding='same', activation='relu', \n",
    "                               kernel_initializer=initializer,\n",
    "                               input_shape=input_shape),\n",
    "        tf.keras.layers.Conv2D(channel_2, (3, 3), \n",
    "                               padding='same', activation='relu', \n",
    "                               kernel_initializer=initializer),\n",
    "        tf.keras.layers.Flatten(),\n",
    "        tf.keras.layers.Dense(num_classes, activation='softmax',\n",
    "                              kernel_initializer=initializer),\n",
    "    ]\n",
    "    model = tf.keras.Sequential(layers) \n",
    "\n",
    "    # *****END OF YOUR CODE (DO NOT DELETE/MODIFY THIS LINE)*****\n",
    "    ############################################################################\n",
    "    #                            END OF YOUR CODE                              #\n",
    "    ############################################################################\n",
    "    return model"
   ]
  },
  {
   "cell_type": "code",
   "execution_count": 28,
   "metadata": {
    "tags": []
   },
   "outputs": [],
   "source": [
    "# Test 2 Architecture\n",
    "\n",
    "def model_init_fn_2():\n",
    "    model = None\n",
    "    ############################################################################\n",
    "    # TODO: Construct a three-layer ConvNet using tf.keras.Sequential.         #\n",
    "    ############################################################################\n",
    "    # *****START OF YOUR CODE (DO NOT DELETE/MODIFY THIS LINE)*****\n",
    "    \n",
    "    input_shape = (32, 32, 3)\n",
    "    channel_1, channel_2, num_classes = 32, 16, 10\n",
    "    initializer = tf.initializers.VarianceScaling(scale=2.0)\n",
    "    layers = [\n",
    "        tf.keras.layers.Conv2D(channel_1, (5, 5), \n",
    "                               padding='same', activation='relu', \n",
    "                               kernel_initializer=initializer, \n",
    "                               input_shape=input_shape),\n",
    "        tf.keras.layers.BatchNormalization(),\n",
    "        tf.keras.layers.MaxPooling2D(pool_size=(2, 2)),\n",
    "        tf.keras.layers.Conv2D(channel_2, (3, 3), \n",
    "                               padding='same', activation='relu', \n",
    "                               kernel_initializer=initializer),\n",
    "        tf.keras.layers.BatchNormalization(),\n",
    "        tf.keras.layers.MaxPooling2D(pool_size=(2, 2)),\n",
    "        tf.keras.layers.Flatten(),\n",
    "        tf.keras.layers.Dense(512, activation='relu', \n",
    "                              kernel_initializer=initializer),\n",
    "        tf.keras.layers.BatchNormalization(),\n",
    "        tf.keras.layers.Dense(num_classes, activation='softmax', \n",
    "                              kernel_initializer=initializer)\n",
    "    ]\n",
    "    model = tf.keras.Sequential(layers) \n",
    "\n",
    "    # *****END OF YOUR CODE (DO NOT DELETE/MODIFY THIS LINE)*****\n",
    "    ############################################################################\n",
    "    #                            END OF YOUR CODE                              #\n",
    "    ############################################################################\n",
    "    return model"
   ]
  },
  {
   "cell_type": "code",
   "execution_count": 29,
   "metadata": {
    "tags": []
   },
   "outputs": [],
   "source": [
    "# Test 3 Architecture\n",
    "\n",
    "def model_init_fn_3():\n",
    "    model = None\n",
    "    ############################################################################\n",
    "    # TODO: Construct a three-layer ConvNet using tf.keras.Sequential.         #\n",
    "    ############################################################################\n",
    "    # *****START OF YOUR CODE (DO NOT DELETE/MODIFY THIS LINE)*****\n",
    "    \n",
    "    input_shape = (32, 32, 3)\n",
    "    channel_1, channel_2, num_classes = 32, 16, 10\n",
    "    weight_decay = 1e-4\n",
    "    dropout_rate = 0.5\n",
    "\n",
    "    regularizer = tf.keras.regularizers.l2(weight_decay)\n",
    "    layers = [\n",
    "        tf.keras.layers.Conv2D(channel_1, (5, 5), padding='same', activation='relu',\n",
    "                               kernel_initializer='he_normal',\n",
    "                               kernel_regularizer=regularizer,\n",
    "                               input_shape=input_shape),\n",
    "        tf.keras.layers.BatchNormalization(),\n",
    "        tf.keras.layers.MaxPooling2D(pool_size=(2, 2)),\n",
    "        tf.keras.layers.Conv2D(channel_2, (3, 3), padding='same', activation='relu',\n",
    "                               kernel_initializer='he_normal',\n",
    "                               kernel_regularizer=regularizer),\n",
    "        tf.keras.layers.BatchNormalization(),\n",
    "        tf.keras.layers.MaxPooling2D(pool_size=(2, 2)),\n",
    "        tf.keras.layers.Flatten(),\n",
    "        tf.keras.layers.Dense(512, activation='relu',\n",
    "                             kernel_initializer='he_normal',\n",
    "                             kernel_regularizer=regularizer),\n",
    "        tf.keras.layers.BatchNormalization(),\n",
    "        tf.keras.layers.Dropout(dropout_rate),  # Add dropout\n",
    "        tf.keras.layers.Dense(num_classes, activation='softmax',\n",
    "                             kernel_initializer='he_normal',\n",
    "                             kernel_regularizer=regularizer)\n",
    "    ]\n",
    "    model = tf.keras.Sequential(layers) \n",
    "\n",
    "    # *****END OF YOUR CODE (DO NOT DELETE/MODIFY THIS LINE)*****\n",
    "    ############################################################################\n",
    "    #                            END OF YOUR CODE                              #\n",
    "    ############################################################################\n",
    "    return model"
   ]
  },
  {
   "cell_type": "code",
   "execution_count": 30,
   "metadata": {
    "tags": []
   },
   "outputs": [],
   "source": [
    "# Test 4 Architecture\n",
    "\n",
    "def model_init_fn_4():\n",
    "    model = None\n",
    "    ############################################################################\n",
    "    # TODO: Construct a three-layer ConvNet using tf.keras.Sequential.         #\n",
    "    ############################################################################\n",
    "    # *****START OF YOUR CODE (DO NOT DELETE/MODIFY THIS LINE)*****\n",
    "    \n",
    "    input_shape = (32, 32, 3)\n",
    "    channel_1, channel_2, num_classes = 32, 16, 10\n",
    "    weight_decay = 1e-4\n",
    "    dropout_rate = 0.5\n",
    "\n",
    "    regularizer = tf.keras.regularizers.l2(weight_decay)\n",
    "    layers = [\n",
    "        tf.keras.layers.Conv2D(channel_1, (5, 5), padding='same', activation='relu',\n",
    "                               kernel_initializer='he_normal',\n",
    "                               kernel_regularizer=regularizer,\n",
    "                               input_shape=input_shape),\n",
    "        tf.keras.layers.BatchNormalization(),\n",
    "        tf.keras.layers.MaxPooling2D(pool_size=(2, 2)),\n",
    "        tf.keras.layers.Conv2D(channel_2, (3, 3), padding='same', activation='relu',\n",
    "                               kernel_initializer='he_normal',\n",
    "                               kernel_regularizer=regularizer),\n",
    "        tf.keras.layers.BatchNormalization(),\n",
    "        tf.keras.layers.MaxPooling2D(pool_size=(2, 2)),\n",
    "        tf.keras.layers.Flatten(),\n",
    "        tf.keras.layers.Dense(512, activation='relu',\n",
    "                             kernel_initializer='he_normal',\n",
    "                             kernel_regularizer=regularizer),\n",
    "        tf.keras.layers.BatchNormalization(),\n",
    "        tf.keras.layers.Dropout(dropout_rate),  # Add dropout\n",
    "        tf.keras.layers.Dense(256, activation='relu',  # Add an additional hidden layer\n",
    "                             kernel_initializer='he_normal',\n",
    "                             kernel_regularizer=regularizer),\n",
    "        tf.keras.layers.BatchNormalization(),\n",
    "        tf.keras.layers.Dropout(dropout_rate),  # Add dropout to the new hidden layer\n",
    "        tf.keras.layers.Dense(num_classes, activation='softmax',\n",
    "                             kernel_initializer='he_normal',\n",
    "                             kernel_regularizer=regularizer)\n",
    "    ]\n",
    "    model = tf.keras.Sequential(layers) \n",
    "\n",
    "    # *****END OF YOUR CODE (DO NOT DELETE/MODIFY THIS LINE)*****\n",
    "    ############################################################################\n",
    "    #                            END OF YOUR CODE                              #\n",
    "    ############################################################################\n",
    "    return model"
   ]
  },
  {
   "cell_type": "code",
   "execution_count": 31,
   "metadata": {
    "tags": []
   },
   "outputs": [],
   "source": [
    "# Test 5 Architecture\n",
    "\n",
    "def model_init_fn_5(dropout_rate=0.5):\n",
    "    model = None\n",
    "    ############################################################################\n",
    "    # TODO: Construct a three-layer ConvNet using tf.keras.Sequential.         #\n",
    "    ############################################################################\n",
    "    # *****START OF YOUR CODE (DO NOT DELETE/MODIFY THIS LINE)*****\n",
    "    \n",
    "    input_shape = (32, 32, 3)\n",
    "    channel_1, channel_2, num_classes = 32, 16, 10\n",
    "    initializer = tf.initializers.VarianceScaling(scale=2.0)\n",
    "    layers = [\n",
    "        tf.keras.layers.Conv2D(channel_1, (5, 5), \n",
    "                               padding='same', activation='relu', \n",
    "                               kernel_initializer=initializer, \n",
    "                               input_shape=input_shape),\n",
    "        tf.keras.layers.BatchNormalization(),\n",
    "        tf.keras.layers.MaxPooling2D(pool_size=(2, 2)),\n",
    "        tf.keras.layers.Dropout(dropout_rate),  # Add dropout here\n",
    "        tf.keras.layers.Conv2D(channel_2, (3, 3), \n",
    "                               padding='same', activation='relu', \n",
    "                               kernel_initializer=initializer),\n",
    "        tf.keras.layers.BatchNormalization(),\n",
    "        tf.keras.layers.MaxPooling2D(pool_size=(2, 2)),\n",
    "        tf.keras.layers.Dropout(dropout_rate),  # Add dropout here\n",
    "        tf.keras.layers.Flatten(),\n",
    "        tf.keras.layers.Dense(512, activation='relu', \n",
    "                              kernel_initializer=initializer),\n",
    "        tf.keras.layers.BatchNormalization(),\n",
    "        tf.keras.layers.Dropout(dropout_rate),  # Add dropout here\n",
    "        tf.keras.layers.Dense(num_classes, activation='softmax', \n",
    "                              kernel_initializer=initializer)\n",
    "    ]\n",
    "    model = tf.keras.Sequential(layers) \n",
    "\n",
    "    # *****END OF YOUR CODE (DO NOT DELETE/MODIFY THIS LINE)*****\n",
    "    ############################################################################\n",
    "    #                            END OF YOUR CODE                              #\n",
    "    ############################################################################\n",
    "    return model"
   ]
  },
  {
   "cell_type": "code",
   "execution_count": 32,
   "metadata": {
    "tags": []
   },
   "outputs": [],
   "source": [
    "# Test 6 Architecture\n",
    "\n",
    "def model_init_fn_6():\n",
    "    model = None\n",
    "    ############################################################################\n",
    "    # TODO: Construct a three-layer ConvNet using tf.keras.Sequential.         #\n",
    "    ############################################################################\n",
    "    # *****START OF YOUR CODE (DO NOT DELETE/MODIFY THIS LINE)*****\n",
    "    \n",
    "    input_shape = (32, 32, 3)\n",
    "    channel_1, channel_2, num_classes = 64, 32, 10\n",
    "    weight_decay = 1e-4\n",
    "    dropout_rate = 0.5\n",
    "\n",
    "    regularizer = tf.keras.regularizers.l2(weight_decay)\n",
    "    layers = [\n",
    "        tf.keras.layers.Conv2D(channel_1, (5, 5), padding='same', activation='relu',\n",
    "                               kernel_initializer='he_normal',\n",
    "                               kernel_regularizer=regularizer,\n",
    "                               input_shape=input_shape),\n",
    "        tf.keras.layers.BatchNormalization(),\n",
    "        tf.keras.layers.MaxPooling2D(pool_size=(2, 2)),\n",
    "        tf.keras.layers.Conv2D(channel_2, (3, 3), padding='same', activation='relu',\n",
    "                               kernel_initializer='he_normal',\n",
    "                               kernel_regularizer=regularizer),\n",
    "        tf.keras.layers.BatchNormalization(),\n",
    "        tf.keras.layers.MaxPooling2D(pool_size=(2, 2)),\n",
    "        tf.keras.layers.Flatten(),\n",
    "        tf.keras.layers.Dense(512, activation='relu',\n",
    "                             kernel_initializer='he_normal',\n",
    "                             kernel_regularizer=regularizer),\n",
    "        tf.keras.layers.BatchNormalization(),\n",
    "        tf.keras.layers.Dropout(dropout_rate),  # Add dropout\n",
    "        tf.keras.layers.Dense(num_classes, activation='softmax',\n",
    "                             kernel_initializer='he_normal',\n",
    "                             kernel_regularizer=regularizer)\n",
    "    ]\n",
    "    model = tf.keras.Sequential(layers) \n",
    "\n",
    "    # *****END OF YOUR CODE (DO NOT DELETE/MODIFY THIS LINE)*****\n",
    "    ############################################################################\n",
    "    #                            END OF YOUR CODE                              #\n",
    "    ############################################################################\n",
    "    return model"
   ]
  },
  {
   "cell_type": "markdown",
   "metadata": {},
   "source": [
    "## Initial Tests"
   ]
  },
  {
   "cell_type": "code",
   "execution_count": 34,
   "metadata": {
    "id": "IB7m9B_LJ7OX",
    "tags": []
   },
   "outputs": [
    {
     "name": "stdout",
     "output_type": "stream",
     "text": [
      "Testing config 0\n",
      "--------------------\n",
      "Epoch 1/5\n",
      "766/766 [==============================] - 33s 41ms/step - loss: 1.5028 - sparse_categorical_accuracy: 0.4764 - val_loss: 1.2085 - val_sparse_categorical_accuracy: 0.5680\n",
      "Epoch 2/5\n",
      "766/766 [==============================] - 26s 34ms/step - loss: 1.0485 - sparse_categorical_accuracy: 0.6347 - val_loss: 1.1004 - val_sparse_categorical_accuracy: 0.6160\n",
      "Epoch 3/5\n",
      "766/766 [==============================] - 26s 34ms/step - loss: 0.8462 - sparse_categorical_accuracy: 0.7068 - val_loss: 1.1381 - val_sparse_categorical_accuracy: 0.6130\n",
      "Epoch 4/5\n",
      "766/766 [==============================] - 27s 35ms/step - loss: 0.7000 - sparse_categorical_accuracy: 0.7588 - val_loss: 1.1827 - val_sparse_categorical_accuracy: 0.6090\n",
      "Epoch 5/5\n",
      "766/766 [==============================] - 31s 40ms/step - loss: 0.5732 - sparse_categorical_accuracy: 0.8018 - val_loss: 1.2924 - val_sparse_categorical_accuracy: 0.6020\n",
      "313/313 [==============================] - 5s 15ms/step - loss: 1.3021 - sparse_categorical_accuracy: 0.6051\n",
      "********************\n",
      "Testing config 1\n",
      "--------------------\n",
      "Epoch 1/5\n",
      "766/766 [==============================] - 34s 43ms/step - loss: 1.2938 - sparse_categorical_accuracy: 0.5544 - val_loss: 1.0545 - val_sparse_categorical_accuracy: 0.6180\n",
      "Epoch 2/5\n",
      "766/766 [==============================] - 27s 35ms/step - loss: 0.9168 - sparse_categorical_accuracy: 0.6798 - val_loss: 0.9008 - val_sparse_categorical_accuracy: 0.6710\n",
      "Epoch 3/5\n",
      "766/766 [==============================] - 27s 35ms/step - loss: 0.7500 - sparse_categorical_accuracy: 0.7367 - val_loss: 0.8769 - val_sparse_categorical_accuracy: 0.7020\n",
      "Epoch 4/5\n",
      "766/766 [==============================] - 27s 35ms/step - loss: 0.6108 - sparse_categorical_accuracy: 0.7873 - val_loss: 0.9492 - val_sparse_categorical_accuracy: 0.6850\n",
      "Epoch 5/5\n",
      "766/766 [==============================] - 27s 35ms/step - loss: 0.4891 - sparse_categorical_accuracy: 0.8324 - val_loss: 0.9421 - val_sparse_categorical_accuracy: 0.6940\n",
      "313/313 [==============================] - 3s 10ms/step - loss: 0.9342 - sparse_categorical_accuracy: 0.7008\n",
      "********************\n",
      "Testing config 2\n",
      "--------------------\n",
      "Epoch 1/5\n",
      "766/766 [==============================] - 32s 39ms/step - loss: 1.7048 - sparse_categorical_accuracy: 0.4774 - val_loss: 1.2315 - val_sparse_categorical_accuracy: 0.5990\n",
      "Epoch 2/5\n",
      "766/766 [==============================] - 28s 36ms/step - loss: 1.2280 - sparse_categorical_accuracy: 0.6106 - val_loss: 1.0984 - val_sparse_categorical_accuracy: 0.6500\n",
      "Epoch 3/5\n",
      "766/766 [==============================] - 28s 36ms/step - loss: 1.0983 - sparse_categorical_accuracy: 0.6598 - val_loss: 1.0448 - val_sparse_categorical_accuracy: 0.6800\n",
      "Epoch 4/5\n",
      "766/766 [==============================] - 30s 39ms/step - loss: 1.0315 - sparse_categorical_accuracy: 0.6863 - val_loss: 1.0292 - val_sparse_categorical_accuracy: 0.6990\n",
      "Epoch 5/5\n",
      "766/766 [==============================] - 28s 37ms/step - loss: 0.9783 - sparse_categorical_accuracy: 0.7093 - val_loss: 1.0100 - val_sparse_categorical_accuracy: 0.7100\n",
      "313/313 [==============================] - 3s 10ms/step - loss: 1.0129 - sparse_categorical_accuracy: 0.6991\n",
      "********************\n",
      "Testing config 3\n",
      "--------------------\n",
      "Epoch 1/5\n",
      "766/766 [==============================] - 36s 45ms/step - loss: 1.9224 - sparse_categorical_accuracy: 0.4162 - val_loss: 1.3495 - val_sparse_categorical_accuracy: 0.5970\n",
      "Epoch 2/5\n",
      "766/766 [==============================] - 17s 23ms/step - loss: 1.3872 - sparse_categorical_accuracy: 0.5672 - val_loss: 1.1906 - val_sparse_categorical_accuracy: 0.6270\n",
      "Epoch 3/5\n",
      "766/766 [==============================] - 18s 24ms/step - loss: 1.2343 - sparse_categorical_accuracy: 0.6268 - val_loss: 1.0766 - val_sparse_categorical_accuracy: 0.6780\n",
      "Epoch 4/5\n",
      "766/766 [==============================] - 18s 23ms/step - loss: 1.1505 - sparse_categorical_accuracy: 0.6595 - val_loss: 1.0648 - val_sparse_categorical_accuracy: 0.6840\n",
      "Epoch 5/5\n",
      "766/766 [==============================] - 19s 25ms/step - loss: 1.0867 - sparse_categorical_accuracy: 0.6834 - val_loss: 1.0034 - val_sparse_categorical_accuracy: 0.7120\n",
      "313/313 [==============================] - 2s 7ms/step - loss: 1.0266 - sparse_categorical_accuracy: 0.7047\n",
      "********************\n",
      "Testing config 4\n",
      "--------------------\n",
      "Epoch 1/5\n",
      "766/766 [==============================] - 22s 28ms/step - loss: 1.8742 - sparse_categorical_accuracy: 0.3821 - val_loss: 1.4044 - val_sparse_categorical_accuracy: 0.4830\n",
      "Epoch 2/5\n",
      "766/766 [==============================] - 3157s 4s/step - loss: 1.4130 - sparse_categorical_accuracy: 0.4903 - val_loss: 1.2115 - val_sparse_categorical_accuracy: 0.5490\n",
      "Epoch 3/5\n",
      "766/766 [==============================] - 20s 26ms/step - loss: 1.2882 - sparse_categorical_accuracy: 0.5354 - val_loss: 1.1642 - val_sparse_categorical_accuracy: 0.5860\n",
      "Epoch 4/5\n",
      "766/766 [==============================] - 27s 35ms/step - loss: 1.2070 - sparse_categorical_accuracy: 0.5666 - val_loss: 1.0920 - val_sparse_categorical_accuracy: 0.6170\n",
      "Epoch 5/5\n",
      "766/766 [==============================] - 27s 35ms/step - loss: 1.1491 - sparse_categorical_accuracy: 0.5894 - val_loss: 1.0008 - val_sparse_categorical_accuracy: 0.6370\n",
      "313/313 [==============================] - 2s 7ms/step - loss: 0.9979 - sparse_categorical_accuracy: 0.6431\n",
      "********************\n",
      "Testing config 5\n",
      "--------------------\n",
      "Epoch 1/5\n",
      "766/766 [==============================] - 39s 49ms/step - loss: 1.6396 - sparse_categorical_accuracy: 0.5066 - val_loss: 1.1713 - val_sparse_categorical_accuracy: 0.6470\n",
      "Epoch 2/5\n",
      "766/766 [==============================] - 52s 69ms/step - loss: 1.1608 - sparse_categorical_accuracy: 0.6456 - val_loss: 1.0634 - val_sparse_categorical_accuracy: 0.6700\n",
      "Epoch 3/5\n",
      "766/766 [==============================] - 52s 67ms/step - loss: 1.0498 - sparse_categorical_accuracy: 0.6907 - val_loss: 1.0135 - val_sparse_categorical_accuracy: 0.7020\n",
      "Epoch 4/5\n",
      "766/766 [==============================] - 50s 65ms/step - loss: 0.9770 - sparse_categorical_accuracy: 0.7236 - val_loss: 1.0097 - val_sparse_categorical_accuracy: 0.7080\n",
      "Epoch 5/5\n",
      "766/766 [==============================] - 52s 67ms/step - loss: 0.9277 - sparse_categorical_accuracy: 0.7477 - val_loss: 1.0000 - val_sparse_categorical_accuracy: 0.7310\n",
      "313/313 [==============================] - 5s 15ms/step - loss: 1.0150 - sparse_categorical_accuracy: 0.7268\n",
      "********************\n"
     ]
    }
   ],
   "source": [
    "models = [\n",
    "    model_init_fn_1(),\n",
    "    model_init_fn_2(),\n",
    "    model_init_fn_3(),\n",
    "    model_init_fn_4(),\n",
    "    model_init_fn_5(),\n",
    "    model_init_fn_6()\n",
    "]\n",
    "history = []\n",
    "\n",
    "for i, model in enumerate(models):\n",
    "    print(f\"Testing config {i}\")\n",
    "    print(\"-\" * 20)\n",
    "    learning_rate = 1e-3\n",
    "    optimizer = tf.keras.optimizers.Adam(learning_rate=learning_rate)\n",
    "    model.compile(optimizer=optimizer,\n",
    "                  loss='sparse_categorical_crossentropy',\n",
    "                  metrics=[tf.keras.metrics.sparse_categorical_accuracy])\n",
    "    hist = model.fit(X_train, y_train, batch_size=64, epochs=5, validation_data=(X_val, y_val))\n",
    "    model.evaluate(X_test, y_test)\n",
    "    history.append(hist)\n",
    "    print(\"*\" * 20)"
   ]
  },
  {
   "cell_type": "markdown",
   "metadata": {},
   "source": [
    "Initial Test Notes (5 epochs): \n",
    "- Test 1: (~60%)\n",
    "    - Adam optimizer with 1e-3 learning rate\n",
    "- Test 2: (~70%)\n",
    "    - Adam optimizer with 1e-3 learning rate\n",
    "    - Adding BatchNormalization and MaxPooling \n",
    "    - Increased accruacy to - with extra layer\n",
    "    - Explicitly define optimizer with learning rate of 1e-3 \n",
    "- Test 3: (~70%)\n",
    "    - Adam optimizer with 1e-3 learning rate\n",
    "    - Add regularization\n",
    "    - Add dropout\n",
    "    - Add another layer\n",
    "- Test 4: (~70%)\n",
    "    - Adam optimizer with 1e-3 learning rate\n",
    "    - Add another layer with dropout and regularization\n",
    "- Test 5: (64%)\n",
    "    - Adam optimizer with 1e-3 learning rate\n",
    "    - Go back to test 2 architecture and add just dropout and another layer\n",
    "- Test 6: (~72%)\n",
    "    - Add regularization\n",
    "    - Add BatchNormalization\n",
    "    - Add MaxPooling2D\n",
    "    - Add dropout\n",
    "    - Add another layer \n",
    "    - change channel_1, channel_2 = 64, 32"
   ]
  },
  {
   "cell_type": "markdown",
   "metadata": {},
   "source": [
    "## Observations"
   ]
  },
  {
   "cell_type": "markdown",
   "metadata": {},
   "source": [
    "So far the best configurations were from architecture 2, 3, 4, and 5. The next series of tests will be for 10 epochs to see which configuration will perform the best."
   ]
  },
  {
   "cell_type": "markdown",
   "metadata": {},
   "source": [
    "## Final Tests"
   ]
  },
  {
   "cell_type": "code",
   "execution_count": 35,
   "metadata": {
    "tags": []
   },
   "outputs": [
    {
     "name": "stdout",
     "output_type": "stream",
     "text": [
      "Testing config 0\n",
      "--------------------\n",
      "Epoch 1/10\n",
      "766/766 [==============================] - 20s 25ms/step - loss: 1.3170 - sparse_categorical_accuracy: 0.5456 - val_loss: 1.0202 - val_sparse_categorical_accuracy: 0.6360\n",
      "Epoch 2/10\n",
      "766/766 [==============================] - 29s 38ms/step - loss: 0.9205 - sparse_categorical_accuracy: 0.6758 - val_loss: 0.9570 - val_sparse_categorical_accuracy: 0.6550\n",
      "Epoch 3/10\n",
      "766/766 [==============================] - 29s 38ms/step - loss: 0.7492 - sparse_categorical_accuracy: 0.7394 - val_loss: 0.9295 - val_sparse_categorical_accuracy: 0.7020\n",
      "Epoch 4/10\n",
      "766/766 [==============================] - 29s 38ms/step - loss: 0.6105 - sparse_categorical_accuracy: 0.7862 - val_loss: 0.9334 - val_sparse_categorical_accuracy: 0.6890\n",
      "Epoch 5/10\n",
      "766/766 [==============================] - 41s 53ms/step - loss: 0.4851 - sparse_categorical_accuracy: 0.8327 - val_loss: 0.9612 - val_sparse_categorical_accuracy: 0.7050\n",
      "Epoch 6/10\n",
      "766/766 [==============================] - 28s 37ms/step - loss: 0.3739 - sparse_categorical_accuracy: 0.8708 - val_loss: 1.0178 - val_sparse_categorical_accuracy: 0.7050\n",
      "Epoch 7/10\n",
      "766/766 [==============================] - 29s 38ms/step - loss: 0.2801 - sparse_categorical_accuracy: 0.9050 - val_loss: 1.0337 - val_sparse_categorical_accuracy: 0.7030\n",
      "Epoch 8/10\n",
      "766/766 [==============================] - 27s 36ms/step - loss: 0.2121 - sparse_categorical_accuracy: 0.9293 - val_loss: 1.1045 - val_sparse_categorical_accuracy: 0.7270\n",
      "Epoch 9/10\n",
      "766/766 [==============================] - 27s 35ms/step - loss: 0.1701 - sparse_categorical_accuracy: 0.9423 - val_loss: 1.2918 - val_sparse_categorical_accuracy: 0.6860\n",
      "Epoch 10/10\n",
      "766/766 [==============================] - 28s 37ms/step - loss: 0.1427 - sparse_categorical_accuracy: 0.9523 - val_loss: 1.3332 - val_sparse_categorical_accuracy: 0.6910\n",
      "313/313 [==============================] - 3s 10ms/step - loss: 1.2693 - sparse_categorical_accuracy: 0.6868\n",
      "********************\n",
      "Testing config 1\n",
      "--------------------\n",
      "Epoch 1/10\n",
      "766/766 [==============================] - 36s 45ms/step - loss: 1.6825 - sparse_categorical_accuracy: 0.4864 - val_loss: 1.2594 - val_sparse_categorical_accuracy: 0.6010\n",
      "Epoch 2/10\n",
      "766/766 [==============================] - 31s 40ms/step - loss: 1.2050 - sparse_categorical_accuracy: 0.6178 - val_loss: 1.0902 - val_sparse_categorical_accuracy: 0.6630\n",
      "Epoch 3/10\n",
      "766/766 [==============================] - 35s 45ms/step - loss: 1.0955 - sparse_categorical_accuracy: 0.6619 - val_loss: 1.0818 - val_sparse_categorical_accuracy: 0.6710\n",
      "Epoch 4/10\n",
      "766/766 [==============================] - 31s 40ms/step - loss: 1.0264 - sparse_categorical_accuracy: 0.6896 - val_loss: 0.9757 - val_sparse_categorical_accuracy: 0.7080\n",
      "Epoch 5/10\n",
      "766/766 [==============================] - 28s 37ms/step - loss: 0.9731 - sparse_categorical_accuracy: 0.7133 - val_loss: 1.0109 - val_sparse_categorical_accuracy: 0.7090\n",
      "Epoch 6/10\n",
      "766/766 [==============================] - 27s 36ms/step - loss: 0.9393 - sparse_categorical_accuracy: 0.7261 - val_loss: 0.9701 - val_sparse_categorical_accuracy: 0.7210\n",
      "Epoch 7/10\n",
      "766/766 [==============================] - 28s 36ms/step - loss: 0.8996 - sparse_categorical_accuracy: 0.7431 - val_loss: 0.9975 - val_sparse_categorical_accuracy: 0.7210\n",
      "Epoch 8/10\n",
      "766/766 [==============================] - 27s 36ms/step - loss: 0.8790 - sparse_categorical_accuracy: 0.7562 - val_loss: 1.0149 - val_sparse_categorical_accuracy: 0.7120\n",
      "Epoch 9/10\n",
      "766/766 [==============================] - 28s 37ms/step - loss: 0.8508 - sparse_categorical_accuracy: 0.7711 - val_loss: 0.9953 - val_sparse_categorical_accuracy: 0.7290\n",
      "Epoch 10/10\n",
      "766/766 [==============================] - 27s 36ms/step - loss: 0.8276 - sparse_categorical_accuracy: 0.7796 - val_loss: 1.0090 - val_sparse_categorical_accuracy: 0.7360\n",
      "313/313 [==============================] - 3s 10ms/step - loss: 1.0077 - sparse_categorical_accuracy: 0.7321\n",
      "********************\n",
      "Testing config 2\n",
      "--------------------\n",
      "Epoch 1/10\n",
      "766/766 [==============================] - 36s 41ms/step - loss: 1.9018 - sparse_categorical_accuracy: 0.4262 - val_loss: 1.3279 - val_sparse_categorical_accuracy: 0.5890\n",
      "Epoch 2/10\n",
      "766/766 [==============================] - 31s 41ms/step - loss: 1.3829 - sparse_categorical_accuracy: 0.5698 - val_loss: 1.2130 - val_sparse_categorical_accuracy: 0.6330\n",
      "Epoch 3/10\n",
      "766/766 [==============================] - 32s 41ms/step - loss: 1.2416 - sparse_categorical_accuracy: 0.6233 - val_loss: 1.1351 - val_sparse_categorical_accuracy: 0.6550\n",
      "Epoch 4/10\n",
      "766/766 [==============================] - 31s 41ms/step - loss: 1.1600 - sparse_categorical_accuracy: 0.6560 - val_loss: 1.0982 - val_sparse_categorical_accuracy: 0.6790\n",
      "Epoch 5/10\n",
      "766/766 [==============================] - 31s 40ms/step - loss: 1.1002 - sparse_categorical_accuracy: 0.6809 - val_loss: 1.0802 - val_sparse_categorical_accuracy: 0.6960\n",
      "Epoch 6/10\n",
      "766/766 [==============================] - 30s 39ms/step - loss: 1.0574 - sparse_categorical_accuracy: 0.6993 - val_loss: 1.0404 - val_sparse_categorical_accuracy: 0.7000\n",
      "Epoch 7/10\n",
      "766/766 [==============================] - 30s 39ms/step - loss: 1.0281 - sparse_categorical_accuracy: 0.7146 - val_loss: 1.0336 - val_sparse_categorical_accuracy: 0.7110\n",
      "Epoch 8/10\n",
      "766/766 [==============================] - 30s 39ms/step - loss: 0.9965 - sparse_categorical_accuracy: 0.7280 - val_loss: 1.0333 - val_sparse_categorical_accuracy: 0.7070\n",
      "Epoch 9/10\n",
      "766/766 [==============================] - 30s 39ms/step - loss: 0.9731 - sparse_categorical_accuracy: 0.7398 - val_loss: 1.0385 - val_sparse_categorical_accuracy: 0.7160\n",
      "Epoch 10/10\n",
      "766/766 [==============================] - 30s 39ms/step - loss: 0.9494 - sparse_categorical_accuracy: 0.7545 - val_loss: 1.0209 - val_sparse_categorical_accuracy: 0.7290\n",
      "313/313 [==============================] - 3s 10ms/step - loss: 1.0243 - sparse_categorical_accuracy: 0.7327\n",
      "********************\n",
      "Testing config 3\n",
      "--------------------\n",
      "Epoch 1/10\n",
      "766/766 [==============================] - 55s 70ms/step - loss: 1.6292 - sparse_categorical_accuracy: 0.5112 - val_loss: 1.1875 - val_sparse_categorical_accuracy: 0.6330\n",
      "Epoch 2/10\n",
      "766/766 [==============================] - 56s 73ms/step - loss: 1.1476 - sparse_categorical_accuracy: 0.6516 - val_loss: 1.0486 - val_sparse_categorical_accuracy: 0.6790\n",
      "Epoch 3/10\n",
      "766/766 [==============================] - 50s 65ms/step - loss: 1.0394 - sparse_categorical_accuracy: 0.6946 - val_loss: 1.0256 - val_sparse_categorical_accuracy: 0.7230\n",
      "Epoch 4/10\n",
      "766/766 [==============================] - 49s 64ms/step - loss: 0.9624 - sparse_categorical_accuracy: 0.7284 - val_loss: 1.0090 - val_sparse_categorical_accuracy: 0.7040\n",
      "Epoch 5/10\n",
      "766/766 [==============================] - 50s 65ms/step - loss: 0.9174 - sparse_categorical_accuracy: 0.7531 - val_loss: 0.9774 - val_sparse_categorical_accuracy: 0.7420\n",
      "Epoch 6/10\n",
      "766/766 [==============================] - 49s 64ms/step - loss: 0.8851 - sparse_categorical_accuracy: 0.7722 - val_loss: 0.9923 - val_sparse_categorical_accuracy: 0.7360\n",
      "Epoch 7/10\n",
      "766/766 [==============================] - 49s 64ms/step - loss: 0.8492 - sparse_categorical_accuracy: 0.7924 - val_loss: 1.0217 - val_sparse_categorical_accuracy: 0.7390\n",
      "Epoch 8/10\n",
      "766/766 [==============================] - 50s 65ms/step - loss: 0.8286 - sparse_categorical_accuracy: 0.8050 - val_loss: 1.0369 - val_sparse_categorical_accuracy: 0.7450\n",
      "Epoch 9/10\n",
      "766/766 [==============================] - 49s 64ms/step - loss: 0.8064 - sparse_categorical_accuracy: 0.8214 - val_loss: 1.1022 - val_sparse_categorical_accuracy: 0.7410\n",
      "Epoch 10/10\n",
      "766/766 [==============================] - 49s 64ms/step - loss: 0.7801 - sparse_categorical_accuracy: 0.8368 - val_loss: 1.0970 - val_sparse_categorical_accuracy: 0.7630\n",
      "313/313 [==============================] - 4s 14ms/step - loss: 1.1151 - sparse_categorical_accuracy: 0.7472\n",
      "********************\n"
     ]
    }
   ],
   "source": [
    "models = [\n",
    "    model_init_fn_2(),\n",
    "    model_init_fn_3(),\n",
    "    model_init_fn_4(),\n",
    "    model_init_fn_6()\n",
    "]\n",
    "history = []\n",
    "\n",
    "for i, model in enumerate(models):\n",
    "    print(f\"Testing config {i}\")\n",
    "    print(\"-\" * 20)\n",
    "    learning_rate = 1e-3\n",
    "    optimizer = tf.keras.optimizers.Adam(learning_rate=learning_rate)\n",
    "    model.compile(optimizer=optimizer,\n",
    "                  loss='sparse_categorical_crossentropy',\n",
    "                  metrics=[tf.keras.metrics.sparse_categorical_accuracy])\n",
    "    hist = model.fit(X_train, y_train, batch_size=64, epochs=10, validation_data=(X_val, y_val))\n",
    "    model.evaluate(X_test, y_test)\n",
    "    history.append(hist)\n",
    "    print(\"*\" * 20)"
   ]
  },
  {
   "cell_type": "markdown",
   "metadata": {},
   "source": [
    "Initial Test Notes (10 epochs): \n",
    "- Test 2: (~68%)\n",
    "    - Adam optimizer with 1e-3 learning rate\n",
    "    - Adding BatchNormalization and MaxPooling \n",
    "    - Increased accruacy to - with extra layer\n",
    "    - Explicitly define optimizer with learning rate of 1e-3 \n",
    "- Test 3: (~73%)\n",
    "    - Adam optimizer with 1e-3 learning rate\n",
    "    - Add regularization\n",
    "    - Add dropout\n",
    "    - Add another layer\n",
    "- Test 4: (~73%)\n",
    "    - Adam optimizer with 1e-3 learning rate\n",
    "    - Add another layer with dropout and regularization\n",
    "- Test 6: (~74%)\n",
    "    - Adam optimizer with 1e-3 learning rate\n",
    "    - Add regularization\n",
    "    - Add BatchNormalization\n",
    "    - Add MaxPooling2D\n",
    "    - Add dropout\n",
    "    - Add another layer \n",
    "    - change channel_1, channel_2 = 64, 32"
   ]
  },
  {
   "cell_type": "markdown",
   "metadata": {},
   "source": [
    "## Observations"
   ]
  },
  {
   "cell_type": "markdown",
   "metadata": {},
   "source": [
    "70% accuracy on the validation set within 10 epochs was achieved on 3 of the 4 architectures listed above. The best performing architecture was from test 6 with a validation accruacy of roughly 74%. The modification can be seen in the list under Test 6 above."
   ]
  },
  {
   "cell_type": "code",
   "execution_count": null,
   "metadata": {},
   "outputs": [],
   "source": []
  }
 ],
 "metadata": {
  "colab": {
   "provenance": []
  },
  "kernelspec": {
   "display_name": "Python 3 (ipykernel)",
   "language": "python",
   "name": "python3"
  },
  "language_info": {
   "codemirror_mode": {
    "name": "ipython",
    "version": 3
   },
   "file_extension": ".py",
   "mimetype": "text/x-python",
   "name": "python",
   "nbconvert_exporter": "python",
   "pygments_lexer": "ipython3",
   "version": "3.11.4"
  }
 },
 "nbformat": 4,
 "nbformat_minor": 4
}
